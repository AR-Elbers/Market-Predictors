{
 "cells": [
  {
   "cell_type": "code",
   "execution_count": 13,
   "metadata": {},
   "outputs": [
    {
     "data": {
      "text/plain": [
       "<bound method NDFrame.head of               Date   Price    Open    High     Low Change %\n",
       "0     Jan 17, 2000  285.55  284.10  285.55  285.55    0.55%\n",
       "1     Jan 14, 2000  284.00  284.20  284.00  284.00   -0.09%\n",
       "2     Jan 13, 2000  284.25  282.60  284.25  284.25    0.63%\n",
       "3     Jan 12, 2000  282.48  283.27  282.48  282.48   -0.32%\n",
       "4     Jan 11, 2000  283.38  281.48  283.38  283.38    0.68%\n",
       "...            ...     ...     ...     ...     ...      ...\n",
       "3879  Jan 22, 1985  306.90  306.90  306.90  306.90   -0.10%\n",
       "3880  Jan 21, 1985  307.20  307.20  307.20  307.20   -0.26%\n",
       "3881  Jan 18, 1985  308.00  308.00  308.00  308.00    0.82%\n",
       "3882  Jan 17, 1985  305.50  305.50  305.50  305.50    0.93%\n",
       "3883  Jan 16, 1985  302.70  302.70  302.70  302.70    0.30%\n",
       "\n",
       "[3884 rows x 6 columns]>"
      ]
     },
     "execution_count": 13,
     "metadata": {},
     "output_type": "execute_result"
    }
   ],
   "source": [
    "# Import pandas to access and manipulate our data\n",
    "import pandas as pd\n",
    "\n",
    "# Establish contact with the csv data files\n",
    "data_1 = \"Raw Data/XAU_USD 12-1979 to 01-1885.csv\"\n",
    "data_2 = \"Raw Data/XAU_USD 01-1985 to 01-2000.csv\"\n",
    "data_3 = \"Raw Data/XAU_USD 01-2000 to 12-2010.csv\"\n",
    "data_4 = \"Raw Data/XAU_USD 12-2010 to 02-2021.csv\"\n",
    "\n",
    "# Read CSV with pandas\n",
    "read_1 = pd.read_csv(data_1)\n",
    "read_2 = pd.read_csv(data_2)\n",
    "read_3 = pd.read_csv(data_3)\n",
    "read_4 = pd.read_csv(data_4)\n",
    "\n",
    "read_2.head"
   ]
  },
  {
   "cell_type": "code",
   "execution_count": 15,
   "metadata": {},
   "outputs": [
    {
     "data": {
      "text/plain": [
       "<bound method NDFrame.head of               Date     Price      Open      High       Low Change %\n",
       "0     Jan 15, 1985     301.8     301.8     301.8     301.8    0.94%\n",
       "1     Jan 14, 1985       299       299       299       299   -1.71%\n",
       "2     Jan 11, 1985     304.2     304.2     304.2     304.2    0.13%\n",
       "3     Jan 10, 1985     303.8     303.8     303.8     303.8    1.10%\n",
       "4     Jan 09, 1985     300.5     300.5     300.5     300.5   -0.50%\n",
       "...            ...       ...       ...       ...       ...      ...\n",
       "2636  Jan 03, 2011  1,414.30  1,421.30  1,424.07  1,412.24   -0.50%\n",
       "2637  Dec 31, 2010  1,421.45  1,406.15  1,423.15  1,405.25    1.21%\n",
       "2638  Dec 30, 2010  1,404.45  1,411.35  1,414.95  1,402.55   -0.46%\n",
       "2639  Dec 29, 2010  1,410.95  1,405.96  1,414.35  1,400.75    0.32%\n",
       "2640  Dec 28, 2010  1,406.39  1,383.95  1,407.15  1,382.45    1.61%\n",
       "\n",
       "[10664 rows x 6 columns]>"
      ]
     },
     "execution_count": 15,
     "metadata": {},
     "output_type": "execute_result"
    }
   ],
   "source": [
    "# Now we must merge our data into one table\n",
    "# Because we are merging data accross the same columns we use pd.concat function\n",
    "data_merged = pd.concat([read_1, read_2, read_3, read_4])\n",
    "\n",
    "# Check our data order and number of rows - we reached the 10,000 data point minimum for NLP\n",
    "data_merged.head"
   ]
  },
  {
   "cell_type": "code",
   "execution_count": 16,
   "metadata": {},
   "outputs": [
    {
     "data": {
      "text/html": [
       "<div>\n",
       "<style scoped>\n",
       "    .dataframe tbody tr th:only-of-type {\n",
       "        vertical-align: middle;\n",
       "    }\n",
       "\n",
       "    .dataframe tbody tr th {\n",
       "        vertical-align: top;\n",
       "    }\n",
       "\n",
       "    .dataframe thead th {\n",
       "        text-align: right;\n",
       "    }\n",
       "</style>\n",
       "<table border=\"1\" class=\"dataframe\">\n",
       "  <thead>\n",
       "    <tr style=\"text-align: right;\">\n",
       "      <th></th>\n",
       "      <th>Date</th>\n",
       "      <th>Price</th>\n",
       "      <th>Open</th>\n",
       "      <th>High</th>\n",
       "      <th>Low</th>\n",
       "      <th>Change %</th>\n",
       "    </tr>\n",
       "  </thead>\n",
       "  <tbody>\n",
       "    <tr>\n",
       "      <th>1289</th>\n",
       "      <td>1979-12-27</td>\n",
       "      <td>515.5</td>\n",
       "      <td>515.5</td>\n",
       "      <td>515.5</td>\n",
       "      <td>515.5</td>\n",
       "      <td>3.31%</td>\n",
       "    </tr>\n",
       "    <tr>\n",
       "      <th>1288</th>\n",
       "      <td>1979-12-28</td>\n",
       "      <td>512</td>\n",
       "      <td>512</td>\n",
       "      <td>512</td>\n",
       "      <td>512</td>\n",
       "      <td>-0.68%</td>\n",
       "    </tr>\n",
       "    <tr>\n",
       "      <th>1287</th>\n",
       "      <td>1980-01-01</td>\n",
       "      <td>512</td>\n",
       "      <td>512</td>\n",
       "      <td>512</td>\n",
       "      <td>512</td>\n",
       "      <td>0.00%</td>\n",
       "    </tr>\n",
       "    <tr>\n",
       "      <th>1286</th>\n",
       "      <td>1980-01-02</td>\n",
       "      <td>559.75</td>\n",
       "      <td>559.75</td>\n",
       "      <td>559.75</td>\n",
       "      <td>559.75</td>\n",
       "      <td>9.33%</td>\n",
       "    </tr>\n",
       "    <tr>\n",
       "      <th>1285</th>\n",
       "      <td>1980-01-03</td>\n",
       "      <td>634.25</td>\n",
       "      <td>634.25</td>\n",
       "      <td>634.25</td>\n",
       "      <td>634.25</td>\n",
       "      <td>13.31%</td>\n",
       "    </tr>\n",
       "    <tr>\n",
       "      <th>...</th>\n",
       "      <td>...</td>\n",
       "      <td>...</td>\n",
       "      <td>...</td>\n",
       "      <td>...</td>\n",
       "      <td>...</td>\n",
       "      <td>...</td>\n",
       "    </tr>\n",
       "    <tr>\n",
       "      <th>4</th>\n",
       "      <td>2021-02-10</td>\n",
       "      <td>1,842.22</td>\n",
       "      <td>1,837.55</td>\n",
       "      <td>1,855.70</td>\n",
       "      <td>1,833.91</td>\n",
       "      <td>0.28%</td>\n",
       "    </tr>\n",
       "    <tr>\n",
       "      <th>3</th>\n",
       "      <td>2021-02-11</td>\n",
       "      <td>1,825.36</td>\n",
       "      <td>1,842.65</td>\n",
       "      <td>1,847.95</td>\n",
       "      <td>1,820.63</td>\n",
       "      <td>-0.91%</td>\n",
       "    </tr>\n",
       "    <tr>\n",
       "      <th>2</th>\n",
       "      <td>2021-02-12</td>\n",
       "      <td>1,823.46</td>\n",
       "      <td>1,825.90</td>\n",
       "      <td>1,830.80</td>\n",
       "      <td>1,810.33</td>\n",
       "      <td>-0.10%</td>\n",
       "    </tr>\n",
       "    <tr>\n",
       "      <th>1</th>\n",
       "      <td>2021-02-14</td>\n",
       "      <td>1,821.11</td>\n",
       "      <td>1,825.42</td>\n",
       "      <td>1,826.32</td>\n",
       "      <td>1,820.24</td>\n",
       "      <td>-0.13%</td>\n",
       "    </tr>\n",
       "    <tr>\n",
       "      <th>0</th>\n",
       "      <td>2021-02-15</td>\n",
       "      <td>1,818.54</td>\n",
       "      <td>1,821.14</td>\n",
       "      <td>1,827.10</td>\n",
       "      <td>1,817.82</td>\n",
       "      <td>-0.14%</td>\n",
       "    </tr>\n",
       "  </tbody>\n",
       "</table>\n",
       "<p>10664 rows × 6 columns</p>\n",
       "</div>"
      ],
      "text/plain": [
       "           Date     Price      Open      High       Low Change %\n",
       "1289 1979-12-27     515.5     515.5     515.5     515.5    3.31%\n",
       "1288 1979-12-28       512       512       512       512   -0.68%\n",
       "1287 1980-01-01       512       512       512       512    0.00%\n",
       "1286 1980-01-02    559.75    559.75    559.75    559.75    9.33%\n",
       "1285 1980-01-03    634.25    634.25    634.25    634.25   13.31%\n",
       "...         ...       ...       ...       ...       ...      ...\n",
       "4    2021-02-10  1,842.22  1,837.55  1,855.70  1,833.91    0.28%\n",
       "3    2021-02-11  1,825.36  1,842.65  1,847.95  1,820.63   -0.91%\n",
       "2    2021-02-12  1,823.46  1,825.90  1,830.80  1,810.33   -0.10%\n",
       "1    2021-02-14  1,821.11  1,825.42  1,826.32  1,820.24   -0.13%\n",
       "0    2021-02-15  1,818.54  1,821.14  1,827.10  1,817.82   -0.14%\n",
       "\n",
       "[10664 rows x 6 columns]"
      ]
     },
     "execution_count": 16,
     "metadata": {},
     "output_type": "execute_result"
    }
   ],
   "source": [
    "\n",
    "data_merged['Date'] = pd.to_datetime(data_merged['Date'])\n",
    "\n",
    "data_sorted = data_merged.sort_values(by='Date')\n",
    "\n",
    "data_sorted"
   ]
  },
  {
   "cell_type": "code",
   "execution_count": 18,
   "metadata": {},
   "outputs": [
    {
     "data": {
      "text/plain": [
       "0"
      ]
     },
     "execution_count": 18,
     "metadata": {},
     "output_type": "execute_result"
    }
   ],
   "source": [
    "# Run a count of dupicates in our data set in regards to \n",
    "\n",
    "data_sorted.duplicated(subset = 'Date').sum()"
   ]
  },
  {
   "cell_type": "code",
   "execution_count": null,
   "metadata": {},
   "outputs": [],
   "source": [
    "# Calculate Percentage change in Price based on our closing prices, \n",
    "# rather than price variance within the day"
   ]
  }
 ],
 "metadata": {
  "kernelspec": {
   "display_name": "Python 3",
   "language": "python",
   "name": "python3"
  },
  "language_info": {
   "codemirror_mode": {
    "name": "ipython",
    "version": 3
   },
   "file_extension": ".py",
   "mimetype": "text/x-python",
   "name": "python",
   "nbconvert_exporter": "python",
   "pygments_lexer": "ipython3",
   "version": "3.7.9"
  },
  "varInspector": {
   "cols": {
    "lenName": 16,
    "lenType": 16,
    "lenVar": 40
   },
   "kernels_config": {
    "python": {
     "delete_cmd_postfix": "",
     "delete_cmd_prefix": "del ",
     "library": "var_list.py",
     "varRefreshCmd": "print(var_dic_list())"
    },
    "r": {
     "delete_cmd_postfix": ") ",
     "delete_cmd_prefix": "rm(",
     "library": "var_list.r",
     "varRefreshCmd": "cat(var_dic_list()) "
    }
   },
   "types_to_exclude": [
    "module",
    "function",
    "builtin_function_or_method",
    "instance",
    "_Feature"
   ],
   "window_display": false
  }
 },
 "nbformat": 4,
 "nbformat_minor": 4
}
