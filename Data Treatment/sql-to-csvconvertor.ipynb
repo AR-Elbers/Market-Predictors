{
 "metadata": {
  "language_info": {
   "codemirror_mode": {
    "name": "ipython",
    "version": 3
   },
   "file_extension": ".py",
   "mimetype": "text/x-python",
   "name": "python",
   "nbconvert_exporter": "python",
   "pygments_lexer": "ipython3",
   "version": "3.8.3-final"
  },
  "orig_nbformat": 2,
  "kernelspec": {
   "name": "python3",
   "display_name": "Python 3",
   "language": "python"
  }
 },
 "nbformat": 4,
 "nbformat_minor": 2,
 "cells": [
  {
   "cell_type": "code",
   "execution_count": 1,
   "metadata": {},
   "outputs": [],
   "source": [
    "# Dependencies\n",
    "# ----------------------------------\n",
    "# Imports the method used for connecting to DBs\n",
    "from sqlalchemy import create_engine\n",
    "\n",
    "\n",
    "# Imports the methods needed to abstract classes into tables\n",
    "from sqlalchemy.ext.declarative import declarative_base\n",
    "\n",
    "# Allow us to declare column types\n",
    "from sqlalchemy import Column, Integer, String, Float, Date\n",
    "\n",
    "#Import Pandas\n",
    "import pandas as pd\n"
   ]
  },
  {
   "cell_type": "code",
   "execution_count": 2,
   "metadata": {},
   "outputs": [],
   "source": [
    "# Read csv files and create dataframes\n",
    "\n",
    "path_to_bonds_value_csv=\"Bonds (closing price).csv\"\n",
    "bondsprice_df=pd.read_csv(path_to_bonds_value_csv, index_col=0)\n",
    "\n",
    "path_to_bonds_returns_csv=\"Bonds (daily returns).csv\"\n",
    "bondsdaily_df=pd.read_csv(path_to_bonds_returns_csv, index_col=0)\n",
    "\n",
    "path_to_gold_value_csv=\"Gold (closing price).csv\"\n",
    "goldprice_df=pd.read_csv(path_to_gold_value_csv, index_col=0)\n",
    "\n",
    "path_to_gold_returns_csv=\"Gold (daily returns).csv\"\n",
    "golddaily_df=pd.read_csv(path_to_gold_returns_csv, index_col=0)\n",
    "\n",
    "path_to_nasdaq_value_csv=\"Nasdaq (closing price).csv\"\n",
    "nasdaqprice_df=pd.read_csv(path_to_nasdaq_value_csv, index_col=0)\n",
    "\n",
    "path_to_nasdaq_returns_csv=\"Nasdaq (daily returns).csv\"\n",
    "nasdaqdaily_df=pd.read_csv(path_to_nasdaq_returns_csv, index_col=0)\n",
    "\n",
    "path_to_nikkei_value_csv=\"Nikkei (closing price).csv\"\n",
    "nikkeiprice_df=pd.read_csv(path_to_nikkei_value_csv, index_col=0)\n",
    "\n",
    "path_to_nikkei_returns_csv=\"Nikkei (daily returns).csv\"\n",
    "nikkeidaily_df=pd.read_csv(path_to_nikkei_returns_csv, index_col=0)\n",
    "\n",
    "path_to_merge_value_csv=\"Merge (All closing prices).csv\"\n",
    "mergeprice_df=pd.read_csv(path_to_merge_value_csv, index_col=0)\n",
    "\n",
    "path_to_merge_returns_csv=\"Merge_all (daily returns).csv\"\n",
    "mergedaily_df=pd.read_csv(path_to_merge_returns_csv, index_col=0)\n",
    "\n"
   ]
  },
  {
   "cell_type": "code",
   "execution_count": 3,
   "metadata": {},
   "outputs": [],
   "source": [
    "# Create Database Connection\n",
    "# ----------------------------------\n",
    "# Creates a connection to our DB\n",
    "# Do not duplicate this cell. There is no need \n",
    "engine = create_engine(\"sqlite:///market.sqlite\")\n",
    "conn = engine.connect()"
   ]
  },
  {
   "cell_type": "code",
   "execution_count": 4,
   "metadata": {},
   "outputs": [],
   "source": [
    "# Convert dataframes into .sqlite files\n",
    "\n",
    "bondsprice_df.to_sql(\"BondsClosing\",engine,if_exists=\"replace\")\n",
    "\n",
    "bondsdaily_df.to_sql(\"BondsDaily\",engine,if_exists=\"replace\")\n",
    "\n",
    "goldprice_df.to_sql(\"GoldClosing\",engine,if_exists=\"replace\")\n",
    "\n",
    "golddaily_df.to_sql(\"GoldDaily\",engine,if_exists=\"replace\")\n",
    "\n",
    "nasdaqprice_df.to_sql(\"NasdaqClosing\",engine,if_exists=\"replace\")\n",
    "\n",
    "nasdaqdaily_df.to_sql(\"NasdaqDaily\",engine,if_exists=\"replace\")\n",
    "\n",
    "nikkeiprice_df.to_sql(\"NikkeiClosing\",engine,if_exists=\"replace\")\n",
    "\n",
    "nikkeidaily_df.to_sql(\"NikkeiDaily\",engine,if_exists=\"replace\")\n",
    "\n",
    "mergeprice_df.to_sql(\"MergeAllClosing\",engine,if_exists=\"replace\")\n",
    "\n",
    "mergedaily_df.to_sql(\"MergeAllDaily\",engine,if_exists=\"replace\")"
   ]
  },
  {
   "cell_type": "code",
   "execution_count": 5,
   "metadata": {},
   "outputs": [
    {
     "output_type": "execute_result",
     "data": {
      "text/plain": [
       "             Date  Bonds_10year\n",
       "0      1979-12-27        10.460\n",
       "1      1979-12-28        10.410\n",
       "2      1979-12-31        10.330\n",
       "3      1980-01-02        10.500\n",
       "4      1980-01-03        10.600\n",
       "...           ...           ...\n",
       "10269  2021-02-08         1.160\n",
       "10270  2021-02-09         1.157\n",
       "10271  2021-02-10         1.133\n",
       "10272  2021-02-11         1.158\n",
       "10273  2021-02-12         1.200\n",
       "\n",
       "[10274 rows x 2 columns]"
      ],
      "text/html": "<div>\n<style scoped>\n    .dataframe tbody tr th:only-of-type {\n        vertical-align: middle;\n    }\n\n    .dataframe tbody tr th {\n        vertical-align: top;\n    }\n\n    .dataframe thead th {\n        text-align: right;\n    }\n</style>\n<table border=\"1\" class=\"dataframe\">\n  <thead>\n    <tr style=\"text-align: right;\">\n      <th></th>\n      <th>Date</th>\n      <th>Bonds_10year</th>\n    </tr>\n  </thead>\n  <tbody>\n    <tr>\n      <th>0</th>\n      <td>1979-12-27</td>\n      <td>10.460</td>\n    </tr>\n    <tr>\n      <th>1</th>\n      <td>1979-12-28</td>\n      <td>10.410</td>\n    </tr>\n    <tr>\n      <th>2</th>\n      <td>1979-12-31</td>\n      <td>10.330</td>\n    </tr>\n    <tr>\n      <th>3</th>\n      <td>1980-01-02</td>\n      <td>10.500</td>\n    </tr>\n    <tr>\n      <th>4</th>\n      <td>1980-01-03</td>\n      <td>10.600</td>\n    </tr>\n    <tr>\n      <th>...</th>\n      <td>...</td>\n      <td>...</td>\n    </tr>\n    <tr>\n      <th>10269</th>\n      <td>2021-02-08</td>\n      <td>1.160</td>\n    </tr>\n    <tr>\n      <th>10270</th>\n      <td>2021-02-09</td>\n      <td>1.157</td>\n    </tr>\n    <tr>\n      <th>10271</th>\n      <td>2021-02-10</td>\n      <td>1.133</td>\n    </tr>\n    <tr>\n      <th>10272</th>\n      <td>2021-02-11</td>\n      <td>1.158</td>\n    </tr>\n    <tr>\n      <th>10273</th>\n      <td>2021-02-12</td>\n      <td>1.200</td>\n    </tr>\n  </tbody>\n</table>\n<p>10274 rows × 2 columns</p>\n</div>"
     },
     "metadata": {},
     "execution_count": 5
    }
   ],
   "source": [
    "# this is optional \n",
    "#To be done in different cells for each to view what is in the .sqlite file\n",
    "pd.read_sql(\"BondsClosing\",conn)"
   ]
  },
  {
   "cell_type": "code",
   "execution_count": 6,
   "metadata": {},
   "outputs": [
    {
     "output_type": "execute_result",
     "data": {
      "text/plain": [
       "             Date  Bonds_10year\n",
       "0      1979-12-28     -0.478011\n",
       "1      1979-12-31     -0.768492\n",
       "2      1980-01-02      1.645692\n",
       "3      1980-01-03      0.952381\n",
       "4      1980-01-04      0.566038\n",
       "...           ...           ...\n",
       "10268  2021-02-08     -0.854701\n",
       "10269  2021-02-09     -0.258621\n",
       "10270  2021-02-10     -2.074330\n",
       "10271  2021-02-11      2.206531\n",
       "10272  2021-02-12      3.626943\n",
       "\n",
       "[10273 rows x 2 columns]"
      ],
      "text/html": "<div>\n<style scoped>\n    .dataframe tbody tr th:only-of-type {\n        vertical-align: middle;\n    }\n\n    .dataframe tbody tr th {\n        vertical-align: top;\n    }\n\n    .dataframe thead th {\n        text-align: right;\n    }\n</style>\n<table border=\"1\" class=\"dataframe\">\n  <thead>\n    <tr style=\"text-align: right;\">\n      <th></th>\n      <th>Date</th>\n      <th>Bonds_10year</th>\n    </tr>\n  </thead>\n  <tbody>\n    <tr>\n      <th>0</th>\n      <td>1979-12-28</td>\n      <td>-0.478011</td>\n    </tr>\n    <tr>\n      <th>1</th>\n      <td>1979-12-31</td>\n      <td>-0.768492</td>\n    </tr>\n    <tr>\n      <th>2</th>\n      <td>1980-01-02</td>\n      <td>1.645692</td>\n    </tr>\n    <tr>\n      <th>3</th>\n      <td>1980-01-03</td>\n      <td>0.952381</td>\n    </tr>\n    <tr>\n      <th>4</th>\n      <td>1980-01-04</td>\n      <td>0.566038</td>\n    </tr>\n    <tr>\n      <th>...</th>\n      <td>...</td>\n      <td>...</td>\n    </tr>\n    <tr>\n      <th>10268</th>\n      <td>2021-02-08</td>\n      <td>-0.854701</td>\n    </tr>\n    <tr>\n      <th>10269</th>\n      <td>2021-02-09</td>\n      <td>-0.258621</td>\n    </tr>\n    <tr>\n      <th>10270</th>\n      <td>2021-02-10</td>\n      <td>-2.074330</td>\n    </tr>\n    <tr>\n      <th>10271</th>\n      <td>2021-02-11</td>\n      <td>2.206531</td>\n    </tr>\n    <tr>\n      <th>10272</th>\n      <td>2021-02-12</td>\n      <td>3.626943</td>\n    </tr>\n  </tbody>\n</table>\n<p>10273 rows × 2 columns</p>\n</div>"
     },
     "metadata": {},
     "execution_count": 6
    }
   ],
   "source": [
    "# this is optional \n",
    "#To be done in different cells for each to view what is in the .sqlite file\n",
    "pd.read_sql(\"BondsDaily\",conn)"
   ]
  },
  {
   "cell_type": "code",
   "execution_count": 7,
   "metadata": {},
   "outputs": [
    {
     "output_type": "execute_result",
     "data": {
      "text/plain": [
       "             Date  XAU_USD\n",
       "0      1979-12-27   515.50\n",
       "1      1979-12-28   512.00\n",
       "2      1980-01-01   512.00\n",
       "3      1980-01-02   559.75\n",
       "4      1980-01-03   634.25\n",
       "...           ...      ...\n",
       "10659  2021-02-10  1842.22\n",
       "10660  2021-02-11  1825.36\n",
       "10661  2021-02-12  1823.46\n",
       "10662  2021-02-14  1821.11\n",
       "10663  2021-02-15  1818.54\n",
       "\n",
       "[10664 rows x 2 columns]"
      ],
      "text/html": "<div>\n<style scoped>\n    .dataframe tbody tr th:only-of-type {\n        vertical-align: middle;\n    }\n\n    .dataframe tbody tr th {\n        vertical-align: top;\n    }\n\n    .dataframe thead th {\n        text-align: right;\n    }\n</style>\n<table border=\"1\" class=\"dataframe\">\n  <thead>\n    <tr style=\"text-align: right;\">\n      <th></th>\n      <th>Date</th>\n      <th>XAU_USD</th>\n    </tr>\n  </thead>\n  <tbody>\n    <tr>\n      <th>0</th>\n      <td>1979-12-27</td>\n      <td>515.50</td>\n    </tr>\n    <tr>\n      <th>1</th>\n      <td>1979-12-28</td>\n      <td>512.00</td>\n    </tr>\n    <tr>\n      <th>2</th>\n      <td>1980-01-01</td>\n      <td>512.00</td>\n    </tr>\n    <tr>\n      <th>3</th>\n      <td>1980-01-02</td>\n      <td>559.75</td>\n    </tr>\n    <tr>\n      <th>4</th>\n      <td>1980-01-03</td>\n      <td>634.25</td>\n    </tr>\n    <tr>\n      <th>...</th>\n      <td>...</td>\n      <td>...</td>\n    </tr>\n    <tr>\n      <th>10659</th>\n      <td>2021-02-10</td>\n      <td>1842.22</td>\n    </tr>\n    <tr>\n      <th>10660</th>\n      <td>2021-02-11</td>\n      <td>1825.36</td>\n    </tr>\n    <tr>\n      <th>10661</th>\n      <td>2021-02-12</td>\n      <td>1823.46</td>\n    </tr>\n    <tr>\n      <th>10662</th>\n      <td>2021-02-14</td>\n      <td>1821.11</td>\n    </tr>\n    <tr>\n      <th>10663</th>\n      <td>2021-02-15</td>\n      <td>1818.54</td>\n    </tr>\n  </tbody>\n</table>\n<p>10664 rows × 2 columns</p>\n</div>"
     },
     "metadata": {},
     "execution_count": 7
    }
   ],
   "source": [
    "# this is optional \n",
    "#To be done in different cells for each to view what is in the .sqlite file\n",
    "pd.read_sql(\"GoldClosing\",conn)"
   ]
  },
  {
   "cell_type": "code",
   "execution_count": 8,
   "metadata": {},
   "outputs": [
    {
     "output_type": "execute_result",
     "data": {
      "text/plain": [
       "             Date    XAU_USD\n",
       "0      1979-12-28  -0.678952\n",
       "1      1980-01-01   0.000000\n",
       "2      1980-01-02   9.326172\n",
       "3      1980-01-03  13.309513\n",
       "4      1980-01-04   0.000000\n",
       "...           ...        ...\n",
       "10658  2021-02-10   0.280884\n",
       "10659  2021-02-11  -0.915200\n",
       "10660  2021-02-12  -0.104089\n",
       "10661  2021-02-14  -0.128876\n",
       "10662  2021-02-15  -0.141123\n",
       "\n",
       "[10663 rows x 2 columns]"
      ],
      "text/html": "<div>\n<style scoped>\n    .dataframe tbody tr th:only-of-type {\n        vertical-align: middle;\n    }\n\n    .dataframe tbody tr th {\n        vertical-align: top;\n    }\n\n    .dataframe thead th {\n        text-align: right;\n    }\n</style>\n<table border=\"1\" class=\"dataframe\">\n  <thead>\n    <tr style=\"text-align: right;\">\n      <th></th>\n      <th>Date</th>\n      <th>XAU_USD</th>\n    </tr>\n  </thead>\n  <tbody>\n    <tr>\n      <th>0</th>\n      <td>1979-12-28</td>\n      <td>-0.678952</td>\n    </tr>\n    <tr>\n      <th>1</th>\n      <td>1980-01-01</td>\n      <td>0.000000</td>\n    </tr>\n    <tr>\n      <th>2</th>\n      <td>1980-01-02</td>\n      <td>9.326172</td>\n    </tr>\n    <tr>\n      <th>3</th>\n      <td>1980-01-03</td>\n      <td>13.309513</td>\n    </tr>\n    <tr>\n      <th>4</th>\n      <td>1980-01-04</td>\n      <td>0.000000</td>\n    </tr>\n    <tr>\n      <th>...</th>\n      <td>...</td>\n      <td>...</td>\n    </tr>\n    <tr>\n      <th>10658</th>\n      <td>2021-02-10</td>\n      <td>0.280884</td>\n    </tr>\n    <tr>\n      <th>10659</th>\n      <td>2021-02-11</td>\n      <td>-0.915200</td>\n    </tr>\n    <tr>\n      <th>10660</th>\n      <td>2021-02-12</td>\n      <td>-0.104089</td>\n    </tr>\n    <tr>\n      <th>10661</th>\n      <td>2021-02-14</td>\n      <td>-0.128876</td>\n    </tr>\n    <tr>\n      <th>10662</th>\n      <td>2021-02-15</td>\n      <td>-0.141123</td>\n    </tr>\n  </tbody>\n</table>\n<p>10663 rows × 2 columns</p>\n</div>"
     },
     "metadata": {},
     "execution_count": 8
    }
   ],
   "source": [
    "# this is optional \n",
    "#To be done in different cells for each to view what is in the .sqlite file\n",
    "pd.read_sql(\"GoldDaily\",conn)"
   ]
  },
  {
   "cell_type": "code",
   "execution_count": 9,
   "metadata": {},
   "outputs": [
    {
     "output_type": "execute_result",
     "data": {
      "text/plain": [
       "             Date    NASDAQ_100\n",
       "0      1979-12-27    150.229996\n",
       "1      1979-12-28    150.830002\n",
       "2      1979-12-31    151.139999\n",
       "3      1980-01-02    148.169998\n",
       "4      1980-01-03    145.970001\n",
       "...           ...           ...\n",
       "10367  2021-02-08  13987.639648\n",
       "10368  2021-02-09  14007.700195\n",
       "10369  2021-02-10  13972.530273\n",
       "10370  2021-02-11  14025.769531\n",
       "10371  2021-02-12  14095.469727\n",
       "\n",
       "[10372 rows x 2 columns]"
      ],
      "text/html": "<div>\n<style scoped>\n    .dataframe tbody tr th:only-of-type {\n        vertical-align: middle;\n    }\n\n    .dataframe tbody tr th {\n        vertical-align: top;\n    }\n\n    .dataframe thead th {\n        text-align: right;\n    }\n</style>\n<table border=\"1\" class=\"dataframe\">\n  <thead>\n    <tr style=\"text-align: right;\">\n      <th></th>\n      <th>Date</th>\n      <th>NASDAQ_100</th>\n    </tr>\n  </thead>\n  <tbody>\n    <tr>\n      <th>0</th>\n      <td>1979-12-27</td>\n      <td>150.229996</td>\n    </tr>\n    <tr>\n      <th>1</th>\n      <td>1979-12-28</td>\n      <td>150.830002</td>\n    </tr>\n    <tr>\n      <th>2</th>\n      <td>1979-12-31</td>\n      <td>151.139999</td>\n    </tr>\n    <tr>\n      <th>3</th>\n      <td>1980-01-02</td>\n      <td>148.169998</td>\n    </tr>\n    <tr>\n      <th>4</th>\n      <td>1980-01-03</td>\n      <td>145.970001</td>\n    </tr>\n    <tr>\n      <th>...</th>\n      <td>...</td>\n      <td>...</td>\n    </tr>\n    <tr>\n      <th>10367</th>\n      <td>2021-02-08</td>\n      <td>13987.639648</td>\n    </tr>\n    <tr>\n      <th>10368</th>\n      <td>2021-02-09</td>\n      <td>14007.700195</td>\n    </tr>\n    <tr>\n      <th>10369</th>\n      <td>2021-02-10</td>\n      <td>13972.530273</td>\n    </tr>\n    <tr>\n      <th>10370</th>\n      <td>2021-02-11</td>\n      <td>14025.769531</td>\n    </tr>\n    <tr>\n      <th>10371</th>\n      <td>2021-02-12</td>\n      <td>14095.469727</td>\n    </tr>\n  </tbody>\n</table>\n<p>10372 rows × 2 columns</p>\n</div>"
     },
     "metadata": {},
     "execution_count": 9
    }
   ],
   "source": [
    "# this is optional \n",
    "#To be done in different cells for each to view what is in the .sqlite file\n",
    "pd.read_sql(\"NasdaqClosing\",conn)"
   ]
  },
  {
   "cell_type": "code",
   "execution_count": 10,
   "metadata": {},
   "outputs": [
    {
     "output_type": "execute_result",
     "data": {
      "text/plain": [
       "             Date  NASDAQ_100\n",
       "0      1979-12-28    0.399392\n",
       "1      1979-12-31    0.205527\n",
       "2      1980-01-02   -1.965066\n",
       "3      1980-01-03   -1.484779\n",
       "4      1980-01-04    1.404400\n",
       "...           ...         ...\n",
       "10366  2021-02-08    0.947871\n",
       "10367  2021-02-09    0.143416\n",
       "10368  2021-02-10   -0.251076\n",
       "10369  2021-02-11    0.381028\n",
       "10370  2021-02-12    0.496944\n",
       "\n",
       "[10371 rows x 2 columns]"
      ],
      "text/html": "<div>\n<style scoped>\n    .dataframe tbody tr th:only-of-type {\n        vertical-align: middle;\n    }\n\n    .dataframe tbody tr th {\n        vertical-align: top;\n    }\n\n    .dataframe thead th {\n        text-align: right;\n    }\n</style>\n<table border=\"1\" class=\"dataframe\">\n  <thead>\n    <tr style=\"text-align: right;\">\n      <th></th>\n      <th>Date</th>\n      <th>NASDAQ_100</th>\n    </tr>\n  </thead>\n  <tbody>\n    <tr>\n      <th>0</th>\n      <td>1979-12-28</td>\n      <td>0.399392</td>\n    </tr>\n    <tr>\n      <th>1</th>\n      <td>1979-12-31</td>\n      <td>0.205527</td>\n    </tr>\n    <tr>\n      <th>2</th>\n      <td>1980-01-02</td>\n      <td>-1.965066</td>\n    </tr>\n    <tr>\n      <th>3</th>\n      <td>1980-01-03</td>\n      <td>-1.484779</td>\n    </tr>\n    <tr>\n      <th>4</th>\n      <td>1980-01-04</td>\n      <td>1.404400</td>\n    </tr>\n    <tr>\n      <th>...</th>\n      <td>...</td>\n      <td>...</td>\n    </tr>\n    <tr>\n      <th>10366</th>\n      <td>2021-02-08</td>\n      <td>0.947871</td>\n    </tr>\n    <tr>\n      <th>10367</th>\n      <td>2021-02-09</td>\n      <td>0.143416</td>\n    </tr>\n    <tr>\n      <th>10368</th>\n      <td>2021-02-10</td>\n      <td>-0.251076</td>\n    </tr>\n    <tr>\n      <th>10369</th>\n      <td>2021-02-11</td>\n      <td>0.381028</td>\n    </tr>\n    <tr>\n      <th>10370</th>\n      <td>2021-02-12</td>\n      <td>0.496944</td>\n    </tr>\n  </tbody>\n</table>\n<p>10371 rows × 2 columns</p>\n</div>"
     },
     "metadata": {},
     "execution_count": 10
    }
   ],
   "source": [
    "# this is optional \n",
    "#To be done in different cells for each to view what is in the .sqlite file\n",
    "pd.read_sql(\"NasdaqDaily\",conn)"
   ]
  },
  {
   "cell_type": "code",
   "execution_count": 11,
   "metadata": {},
   "outputs": [
    {
     "output_type": "execute_result",
     "data": {
      "text/plain": [
       "             Date    NIKKEI_225\n",
       "0      1979-12-27   6528.830078\n",
       "1      1979-12-28   6569.470215\n",
       "2      1980-01-04   6560.160156\n",
       "3      1980-01-07   6552.649902\n",
       "4      1980-01-08   6563.279785\n",
       "...           ...           ...\n",
       "10114  2021-02-08  29388.500000\n",
       "10115  2021-02-09  29505.929688\n",
       "10116  2021-02-10  29562.929688\n",
       "10117  2021-02-12  29520.070313\n",
       "10118  2021-02-15  30084.150391\n",
       "\n",
       "[10119 rows x 2 columns]"
      ],
      "text/html": "<div>\n<style scoped>\n    .dataframe tbody tr th:only-of-type {\n        vertical-align: middle;\n    }\n\n    .dataframe tbody tr th {\n        vertical-align: top;\n    }\n\n    .dataframe thead th {\n        text-align: right;\n    }\n</style>\n<table border=\"1\" class=\"dataframe\">\n  <thead>\n    <tr style=\"text-align: right;\">\n      <th></th>\n      <th>Date</th>\n      <th>NIKKEI_225</th>\n    </tr>\n  </thead>\n  <tbody>\n    <tr>\n      <th>0</th>\n      <td>1979-12-27</td>\n      <td>6528.830078</td>\n    </tr>\n    <tr>\n      <th>1</th>\n      <td>1979-12-28</td>\n      <td>6569.470215</td>\n    </tr>\n    <tr>\n      <th>2</th>\n      <td>1980-01-04</td>\n      <td>6560.160156</td>\n    </tr>\n    <tr>\n      <th>3</th>\n      <td>1980-01-07</td>\n      <td>6552.649902</td>\n    </tr>\n    <tr>\n      <th>4</th>\n      <td>1980-01-08</td>\n      <td>6563.279785</td>\n    </tr>\n    <tr>\n      <th>...</th>\n      <td>...</td>\n      <td>...</td>\n    </tr>\n    <tr>\n      <th>10114</th>\n      <td>2021-02-08</td>\n      <td>29388.500000</td>\n    </tr>\n    <tr>\n      <th>10115</th>\n      <td>2021-02-09</td>\n      <td>29505.929688</td>\n    </tr>\n    <tr>\n      <th>10116</th>\n      <td>2021-02-10</td>\n      <td>29562.929688</td>\n    </tr>\n    <tr>\n      <th>10117</th>\n      <td>2021-02-12</td>\n      <td>29520.070313</td>\n    </tr>\n    <tr>\n      <th>10118</th>\n      <td>2021-02-15</td>\n      <td>30084.150391</td>\n    </tr>\n  </tbody>\n</table>\n<p>10119 rows × 2 columns</p>\n</div>"
     },
     "metadata": {},
     "execution_count": 11
    }
   ],
   "source": [
    "# this is optional \n",
    "#To be done in different cells for each to view what is in the .sqlite file\n",
    "pd.read_sql(\"NikkeiClosing\",conn)"
   ]
  },
  {
   "cell_type": "code",
   "execution_count": 12,
   "metadata": {},
   "outputs": [
    {
     "output_type": "execute_result",
     "data": {
      "text/plain": [
       "             Date  NIKKEI_225\n",
       "0      1979-12-28    0.622472\n",
       "1      1980-01-04   -0.141717\n",
       "2      1980-01-07   -0.114483\n",
       "3      1980-01-08    0.162223\n",
       "4      1980-01-09    0.435000\n",
       "...           ...         ...\n",
       "10113  2021-02-08    2.117191\n",
       "10114  2021-02-09    0.399577\n",
       "10115  2021-02-10    0.193182\n",
       "10116  2021-02-12   -0.144977\n",
       "10117  2021-02-15    1.910836\n",
       "\n",
       "[10118 rows x 2 columns]"
      ],
      "text/html": "<div>\n<style scoped>\n    .dataframe tbody tr th:only-of-type {\n        vertical-align: middle;\n    }\n\n    .dataframe tbody tr th {\n        vertical-align: top;\n    }\n\n    .dataframe thead th {\n        text-align: right;\n    }\n</style>\n<table border=\"1\" class=\"dataframe\">\n  <thead>\n    <tr style=\"text-align: right;\">\n      <th></th>\n      <th>Date</th>\n      <th>NIKKEI_225</th>\n    </tr>\n  </thead>\n  <tbody>\n    <tr>\n      <th>0</th>\n      <td>1979-12-28</td>\n      <td>0.622472</td>\n    </tr>\n    <tr>\n      <th>1</th>\n      <td>1980-01-04</td>\n      <td>-0.141717</td>\n    </tr>\n    <tr>\n      <th>2</th>\n      <td>1980-01-07</td>\n      <td>-0.114483</td>\n    </tr>\n    <tr>\n      <th>3</th>\n      <td>1980-01-08</td>\n      <td>0.162223</td>\n    </tr>\n    <tr>\n      <th>4</th>\n      <td>1980-01-09</td>\n      <td>0.435000</td>\n    </tr>\n    <tr>\n      <th>...</th>\n      <td>...</td>\n      <td>...</td>\n    </tr>\n    <tr>\n      <th>10113</th>\n      <td>2021-02-08</td>\n      <td>2.117191</td>\n    </tr>\n    <tr>\n      <th>10114</th>\n      <td>2021-02-09</td>\n      <td>0.399577</td>\n    </tr>\n    <tr>\n      <th>10115</th>\n      <td>2021-02-10</td>\n      <td>0.193182</td>\n    </tr>\n    <tr>\n      <th>10116</th>\n      <td>2021-02-12</td>\n      <td>-0.144977</td>\n    </tr>\n    <tr>\n      <th>10117</th>\n      <td>2021-02-15</td>\n      <td>1.910836</td>\n    </tr>\n  </tbody>\n</table>\n<p>10118 rows × 2 columns</p>\n</div>"
     },
     "metadata": {},
     "execution_count": 12
    }
   ],
   "source": [
    "# this is optional \n",
    "#To be done in different cells for each to view what is in the .sqlite file\n",
    "pd.read_sql(\"NikkeiDaily\",conn)"
   ]
  },
  {
   "cell_type": "code",
   "execution_count": 13,
   "metadata": {},
   "outputs": [
    {
     "output_type": "execute_result",
     "data": {
      "text/plain": [
       "            Date  Bonds_10year    NASDAQ_100    NIKKEI_225  XAU_USD\n",
       "0     1979-12-27        10.460    150.229996   6528.830078   515.50\n",
       "1     1979-12-28        10.410    150.830002   6569.470215   512.00\n",
       "2     1980-01-04        10.660    148.020004   6560.160156   634.25\n",
       "3     1980-01-07        10.630    148.619995   6552.649902   634.00\n",
       "4     1980-01-08        10.570    150.679993   6563.279785   610.00\n",
       "...          ...           ...           ...           ...      ...\n",
       "9713  2021-02-05         1.170  13856.299805  28779.189453  1811.62\n",
       "9714  2021-02-08         1.160  13987.639648  29388.500000  1830.16\n",
       "9715  2021-02-09         1.157  14007.700195  29505.929688  1837.06\n",
       "9716  2021-02-10         1.133  13972.530273  29562.929688  1842.22\n",
       "9717  2021-02-12         1.200  14095.469727  29520.070313  1823.46\n",
       "\n",
       "[9718 rows x 5 columns]"
      ],
      "text/html": "<div>\n<style scoped>\n    .dataframe tbody tr th:only-of-type {\n        vertical-align: middle;\n    }\n\n    .dataframe tbody tr th {\n        vertical-align: top;\n    }\n\n    .dataframe thead th {\n        text-align: right;\n    }\n</style>\n<table border=\"1\" class=\"dataframe\">\n  <thead>\n    <tr style=\"text-align: right;\">\n      <th></th>\n      <th>Date</th>\n      <th>Bonds_10year</th>\n      <th>NASDAQ_100</th>\n      <th>NIKKEI_225</th>\n      <th>XAU_USD</th>\n    </tr>\n  </thead>\n  <tbody>\n    <tr>\n      <th>0</th>\n      <td>1979-12-27</td>\n      <td>10.460</td>\n      <td>150.229996</td>\n      <td>6528.830078</td>\n      <td>515.50</td>\n    </tr>\n    <tr>\n      <th>1</th>\n      <td>1979-12-28</td>\n      <td>10.410</td>\n      <td>150.830002</td>\n      <td>6569.470215</td>\n      <td>512.00</td>\n    </tr>\n    <tr>\n      <th>2</th>\n      <td>1980-01-04</td>\n      <td>10.660</td>\n      <td>148.020004</td>\n      <td>6560.160156</td>\n      <td>634.25</td>\n    </tr>\n    <tr>\n      <th>3</th>\n      <td>1980-01-07</td>\n      <td>10.630</td>\n      <td>148.619995</td>\n      <td>6552.649902</td>\n      <td>634.00</td>\n    </tr>\n    <tr>\n      <th>4</th>\n      <td>1980-01-08</td>\n      <td>10.570</td>\n      <td>150.679993</td>\n      <td>6563.279785</td>\n      <td>610.00</td>\n    </tr>\n    <tr>\n      <th>...</th>\n      <td>...</td>\n      <td>...</td>\n      <td>...</td>\n      <td>...</td>\n      <td>...</td>\n    </tr>\n    <tr>\n      <th>9713</th>\n      <td>2021-02-05</td>\n      <td>1.170</td>\n      <td>13856.299805</td>\n      <td>28779.189453</td>\n      <td>1811.62</td>\n    </tr>\n    <tr>\n      <th>9714</th>\n      <td>2021-02-08</td>\n      <td>1.160</td>\n      <td>13987.639648</td>\n      <td>29388.500000</td>\n      <td>1830.16</td>\n    </tr>\n    <tr>\n      <th>9715</th>\n      <td>2021-02-09</td>\n      <td>1.157</td>\n      <td>14007.700195</td>\n      <td>29505.929688</td>\n      <td>1837.06</td>\n    </tr>\n    <tr>\n      <th>9716</th>\n      <td>2021-02-10</td>\n      <td>1.133</td>\n      <td>13972.530273</td>\n      <td>29562.929688</td>\n      <td>1842.22</td>\n    </tr>\n    <tr>\n      <th>9717</th>\n      <td>2021-02-12</td>\n      <td>1.200</td>\n      <td>14095.469727</td>\n      <td>29520.070313</td>\n      <td>1823.46</td>\n    </tr>\n  </tbody>\n</table>\n<p>9718 rows × 5 columns</p>\n</div>"
     },
     "metadata": {},
     "execution_count": 13
    }
   ],
   "source": [
    "# this is optional \n",
    "#To be done in different cells for each to view what is in the .sqlite file\n",
    "pd.read_sql(\"MergeAllClosing\",conn)"
   ]
  },
  {
   "cell_type": "code",
   "execution_count": 14,
   "metadata": {},
   "outputs": [
    {
     "output_type": "execute_result",
     "data": {
      "text/plain": [
       "            Date  Bonds_10year  NASDAQ_100  NIKKEI_225    XAU_USD\n",
       "0     1979-12-28     -0.478011    0.399392    0.622472  -0.678952\n",
       "1     1980-01-04      2.401537   -1.863023   -0.141717  23.876953\n",
       "2     1980-01-07     -0.281426    0.405345   -0.114483  -0.039417\n",
       "3     1980-01-08     -0.564440    1.386084    0.162223  -3.785489\n",
       "4     1980-01-09      0.094607    0.610574    0.435000  -0.459016\n",
       "...          ...           ...         ...         ...        ...\n",
       "9712  2021-02-05      2.721686    0.570192    1.542732   1.080200\n",
       "9713  2021-02-08     -0.854701    0.947871    2.117191   1.023393\n",
       "9714  2021-02-09     -0.258621    0.143416    0.399577   0.377016\n",
       "9715  2021-02-10     -2.074330   -0.251076    0.193182   0.280884\n",
       "9716  2021-02-12      5.913504    0.879865   -0.144977  -1.018337\n",
       "\n",
       "[9717 rows x 5 columns]"
      ],
      "text/html": "<div>\n<style scoped>\n    .dataframe tbody tr th:only-of-type {\n        vertical-align: middle;\n    }\n\n    .dataframe tbody tr th {\n        vertical-align: top;\n    }\n\n    .dataframe thead th {\n        text-align: right;\n    }\n</style>\n<table border=\"1\" class=\"dataframe\">\n  <thead>\n    <tr style=\"text-align: right;\">\n      <th></th>\n      <th>Date</th>\n      <th>Bonds_10year</th>\n      <th>NASDAQ_100</th>\n      <th>NIKKEI_225</th>\n      <th>XAU_USD</th>\n    </tr>\n  </thead>\n  <tbody>\n    <tr>\n      <th>0</th>\n      <td>1979-12-28</td>\n      <td>-0.478011</td>\n      <td>0.399392</td>\n      <td>0.622472</td>\n      <td>-0.678952</td>\n    </tr>\n    <tr>\n      <th>1</th>\n      <td>1980-01-04</td>\n      <td>2.401537</td>\n      <td>-1.863023</td>\n      <td>-0.141717</td>\n      <td>23.876953</td>\n    </tr>\n    <tr>\n      <th>2</th>\n      <td>1980-01-07</td>\n      <td>-0.281426</td>\n      <td>0.405345</td>\n      <td>-0.114483</td>\n      <td>-0.039417</td>\n    </tr>\n    <tr>\n      <th>3</th>\n      <td>1980-01-08</td>\n      <td>-0.564440</td>\n      <td>1.386084</td>\n      <td>0.162223</td>\n      <td>-3.785489</td>\n    </tr>\n    <tr>\n      <th>4</th>\n      <td>1980-01-09</td>\n      <td>0.094607</td>\n      <td>0.610574</td>\n      <td>0.435000</td>\n      <td>-0.459016</td>\n    </tr>\n    <tr>\n      <th>...</th>\n      <td>...</td>\n      <td>...</td>\n      <td>...</td>\n      <td>...</td>\n      <td>...</td>\n    </tr>\n    <tr>\n      <th>9712</th>\n      <td>2021-02-05</td>\n      <td>2.721686</td>\n      <td>0.570192</td>\n      <td>1.542732</td>\n      <td>1.080200</td>\n    </tr>\n    <tr>\n      <th>9713</th>\n      <td>2021-02-08</td>\n      <td>-0.854701</td>\n      <td>0.947871</td>\n      <td>2.117191</td>\n      <td>1.023393</td>\n    </tr>\n    <tr>\n      <th>9714</th>\n      <td>2021-02-09</td>\n      <td>-0.258621</td>\n      <td>0.143416</td>\n      <td>0.399577</td>\n      <td>0.377016</td>\n    </tr>\n    <tr>\n      <th>9715</th>\n      <td>2021-02-10</td>\n      <td>-2.074330</td>\n      <td>-0.251076</td>\n      <td>0.193182</td>\n      <td>0.280884</td>\n    </tr>\n    <tr>\n      <th>9716</th>\n      <td>2021-02-12</td>\n      <td>5.913504</td>\n      <td>0.879865</td>\n      <td>-0.144977</td>\n      <td>-1.018337</td>\n    </tr>\n  </tbody>\n</table>\n<p>9717 rows × 5 columns</p>\n</div>"
     },
     "metadata": {},
     "execution_count": 14
    }
   ],
   "source": [
    "# this is optional \n",
    "#To be done in different cells for each to view what is in the .sqlite file\n",
    "pd.read_sql(\"MergeAllDaily\",conn)"
   ]
  },
  {
   "cell_type": "code",
   "execution_count": null,
   "metadata": {},
   "outputs": [],
   "source": []
  }
 ]
}