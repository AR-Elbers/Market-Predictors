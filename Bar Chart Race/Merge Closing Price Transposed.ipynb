{
 "metadata": {
  "language_info": {
   "codemirror_mode": {
    "name": "ipython",
    "version": 3
   },
   "file_extension": ".py",
   "mimetype": "text/x-python",
   "name": "python",
   "nbconvert_exporter": "python",
   "pygments_lexer": "ipython3",
   "version": "3.8.3-final"
  },
  "orig_nbformat": 2,
  "kernelspec": {
   "name": "python3",
   "display_name": "Python 3.8.3 64-bit (conda)",
   "metadata": {
    "interpreter": {
     "hash": "ccb7b26840b825c8924d4cfe054c3e169b8f58795accc090394d62bc14660e70"
    }
   }
  }
 },
 "nbformat": 4,
 "nbformat_minor": 2,
 "cells": [
  {
   "cell_type": "code",
   "execution_count": 1,
   "metadata": {},
   "outputs": [],
   "source": [
    "# Declare dependencies\n",
    "import pandas as pd"
   ]
  },
  {
   "cell_type": "code",
   "execution_count": 2,
   "metadata": {},
   "outputs": [],
   "source": [
    "# Create dataframe from csv file\n",
    "\n",
    "Bonds_Closing_Transposed = pd.read_csv('Bonds (closing price).csv') #,index_col=0\n",
    "Gold_Closing_Transposed = pd.read_csv('Gold (closing price).csv')\n",
    "Nasdaq_Closing_Transposed = pd.read_csv('Nasdaq (closing price).csv')\n",
    "Nikkei_Closing_Transposed = pd.read_csv('Nikkei (closing price).csv')\n"
   ]
  },
  {
   "cell_type": "code",
   "execution_count": 3,
   "metadata": {},
   "outputs": [
    {
     "output_type": "execute_result",
     "data": {
      "text/plain": [
       "            Date    NIKKEI_225\n",
       "21    1980-02-01   6777.640137\n",
       "62    1980-04-01   6502.799805\n",
       "83    1980-05-01   6865.080078\n",
       "125   1980-07-01   6824.350098\n",
       "148   1980-08-01   6788.299805\n",
       "...          ...           ...\n",
       "9946  2020-06-01  22062.390625\n",
       "9968  2020-07-01  22121.730469\n",
       "10009 2020-09-01  23138.070313\n",
       "10069 2020-12-01  26787.539063\n",
       "10109 2021-02-01  28091.050781\n",
       "\n",
       "[319 rows x 2 columns]"
      ],
      "text/html": "<div>\n<style scoped>\n    .dataframe tbody tr th:only-of-type {\n        vertical-align: middle;\n    }\n\n    .dataframe tbody tr th {\n        vertical-align: top;\n    }\n\n    .dataframe thead th {\n        text-align: right;\n    }\n</style>\n<table border=\"1\" class=\"dataframe\">\n  <thead>\n    <tr style=\"text-align: right;\">\n      <th></th>\n      <th>Date</th>\n      <th>NIKKEI_225</th>\n    </tr>\n  </thead>\n  <tbody>\n    <tr>\n      <th>21</th>\n      <td>1980-02-01</td>\n      <td>6777.640137</td>\n    </tr>\n    <tr>\n      <th>62</th>\n      <td>1980-04-01</td>\n      <td>6502.799805</td>\n    </tr>\n    <tr>\n      <th>83</th>\n      <td>1980-05-01</td>\n      <td>6865.080078</td>\n    </tr>\n    <tr>\n      <th>125</th>\n      <td>1980-07-01</td>\n      <td>6824.350098</td>\n    </tr>\n    <tr>\n      <th>148</th>\n      <td>1980-08-01</td>\n      <td>6788.299805</td>\n    </tr>\n    <tr>\n      <th>...</th>\n      <td>...</td>\n      <td>...</td>\n    </tr>\n    <tr>\n      <th>9946</th>\n      <td>2020-06-01</td>\n      <td>22062.390625</td>\n    </tr>\n    <tr>\n      <th>9968</th>\n      <td>2020-07-01</td>\n      <td>22121.730469</td>\n    </tr>\n    <tr>\n      <th>10009</th>\n      <td>2020-09-01</td>\n      <td>23138.070313</td>\n    </tr>\n    <tr>\n      <th>10069</th>\n      <td>2020-12-01</td>\n      <td>26787.539063</td>\n    </tr>\n    <tr>\n      <th>10109</th>\n      <td>2021-02-01</td>\n      <td>28091.050781</td>\n    </tr>\n  </tbody>\n</table>\n<p>319 rows × 2 columns</p>\n</div>"
     },
     "metadata": {},
     "execution_count": 3
    }
   ],
   "source": [
    "Bonds_Closing_Transposed['Date'] = pd.to_datetime(Bonds_Closing_Transposed['Date'])\n",
    "Bonds_Closing_Transposed = Bonds_Closing_Transposed[Bonds_Closing_Transposed['Date'].dt.is_month_start==2]\n",
    "# Bonds_Closing_Transposed.dtypes\n",
    "\n",
    "Gold_Closing_Transposed['Date'] = pd.to_datetime(Gold_Closing_Transposed['Date'])\n",
    "Gold_Closing_Transposed = Gold_Closing_Transposed[Gold_Closing_Transposed['Date'].dt.is_year_end]\n",
    "# Gold_Closing_Transposed.dtypes\n",
    "Gold_Closing_Transposed\n",
    "\n",
    "Nasdaq_Closing_Transposed['Date'] = pd.to_datetime(Nasdaq_Closing_Transposed['Date'])\n",
    "Nasdaq_Closing_Transposed = Nasdaq_Closing_Transposed[Nasdaq_Closing_Transposed['Date'].dt.is_year_end]\n",
    "\n",
    "Nikkei_Closing_Transposed['Date'] = pd.to_datetime(Nikkei_Closing_Transposed['Date'])\n",
    "Nikkei_Closing_Transposed = Nikkei_Closing_Transposed[Nikkei_Closing_Transposed['Date'].dt.is_month_start]\n",
    "Nikkei_Closing_Transposed"
   ]
  },
  {
   "cell_type": "code",
   "execution_count": 4,
   "metadata": {},
   "outputs": [
    {
     "output_type": "execute_result",
     "data": {
      "text/plain": [
       "        NIKKEI_225\n",
       "year              \n",
       "1980   6777.640137\n",
       "1980   6502.799805\n",
       "1980   6865.080078\n",
       "1980   6824.350098\n",
       "1980   6788.299805\n",
       "...            ...\n",
       "2020  22062.390625\n",
       "2020  22121.730469\n",
       "2020  23138.070313\n",
       "2020  26787.539063\n",
       "2021  28091.050781\n",
       "\n",
       "[319 rows x 1 columns]"
      ],
      "text/html": "<div>\n<style scoped>\n    .dataframe tbody tr th:only-of-type {\n        vertical-align: middle;\n    }\n\n    .dataframe tbody tr th {\n        vertical-align: top;\n    }\n\n    .dataframe thead th {\n        text-align: right;\n    }\n</style>\n<table border=\"1\" class=\"dataframe\">\n  <thead>\n    <tr style=\"text-align: right;\">\n      <th></th>\n      <th>NIKKEI_225</th>\n    </tr>\n    <tr>\n      <th>year</th>\n      <th></th>\n    </tr>\n  </thead>\n  <tbody>\n    <tr>\n      <th>1980</th>\n      <td>6777.640137</td>\n    </tr>\n    <tr>\n      <th>1980</th>\n      <td>6502.799805</td>\n    </tr>\n    <tr>\n      <th>1980</th>\n      <td>6865.080078</td>\n    </tr>\n    <tr>\n      <th>1980</th>\n      <td>6824.350098</td>\n    </tr>\n    <tr>\n      <th>1980</th>\n      <td>6788.299805</td>\n    </tr>\n    <tr>\n      <th>...</th>\n      <td>...</td>\n    </tr>\n    <tr>\n      <th>2020</th>\n      <td>22062.390625</td>\n    </tr>\n    <tr>\n      <th>2020</th>\n      <td>22121.730469</td>\n    </tr>\n    <tr>\n      <th>2020</th>\n      <td>23138.070313</td>\n    </tr>\n    <tr>\n      <th>2020</th>\n      <td>26787.539063</td>\n    </tr>\n    <tr>\n      <th>2021</th>\n      <td>28091.050781</td>\n    </tr>\n  </tbody>\n</table>\n<p>319 rows × 1 columns</p>\n</div>"
     },
     "metadata": {},
     "execution_count": 4
    }
   ],
   "source": [
    "Bonds_Closing_Transposed ['year'] = Bonds_Closing_Transposed['Date'].dt.year\n",
    "Bonds_Closing_Transposed.drop(['Date'], axis=1, inplace=True)\n",
    "Bonds_Closing_Transposed = Bonds_Closing_Transposed.set_index('year')\n",
    "Bonds_Closing_Transposed\n",
    "\n",
    "Gold_Closing_Transposed ['year'] = Gold_Closing_Transposed['Date'].dt.year\n",
    "Gold_Closing_Transposed.drop(['Date'], axis=1, inplace=True)\n",
    "Gold_Closing_Transposed = Gold_Closing_Transposed.set_index('year')\n",
    "Gold_Closing_Transposed\n",
    "\n",
    "Nasdaq_Closing_Transposed ['year'] = Nasdaq_Closing_Transposed['Date'].dt.year\n",
    "Nasdaq_Closing_Transposed.drop(['Date'], axis=1, inplace=True)\n",
    "Nasdaq_Closing_Transposed = Nasdaq_Closing_Transposed.set_index('year')\n",
    "Nasdaq_Closing_Transposed\n",
    "\n",
    "Nikkei_Closing_Transposed ['year'] = Nikkei_Closing_Transposed['Date'].dt.year\n",
    "Nikkei_Closing_Transposed.drop(['Date'], axis=1, inplace=True)\n",
    "Nikkei_Closing_Transposed = Nikkei_Closing_Transposed.set_index('year')\n",
    "Nikkei_Closing_Transposed"
   ]
  },
  {
   "cell_type": "code",
   "execution_count": 5,
   "metadata": {},
   "outputs": [
    {
     "output_type": "execute_result",
     "data": {
      "text/plain": [
       "        NIKKEI_225\n",
       "year              \n",
       "1980   6777.640137\n",
       "1980   6502.799805\n",
       "1980   6865.080078\n",
       "1980   6824.350098\n",
       "1980   6788.299805\n",
       "...            ...\n",
       "2020  22062.390625\n",
       "2020  22121.730469\n",
       "2020  23138.070313\n",
       "2020  26787.539063\n",
       "2021  28091.050781\n",
       "\n",
       "[319 rows x 1 columns]"
      ],
      "text/html": "<div>\n<style scoped>\n    .dataframe tbody tr th:only-of-type {\n        vertical-align: middle;\n    }\n\n    .dataframe tbody tr th {\n        vertical-align: top;\n    }\n\n    .dataframe thead th {\n        text-align: right;\n    }\n</style>\n<table border=\"1\" class=\"dataframe\">\n  <thead>\n    <tr style=\"text-align: right;\">\n      <th></th>\n      <th>NIKKEI_225</th>\n    </tr>\n    <tr>\n      <th>year</th>\n      <th></th>\n    </tr>\n  </thead>\n  <tbody>\n    <tr>\n      <th>1980</th>\n      <td>6777.640137</td>\n    </tr>\n    <tr>\n      <th>1980</th>\n      <td>6502.799805</td>\n    </tr>\n    <tr>\n      <th>1980</th>\n      <td>6865.080078</td>\n    </tr>\n    <tr>\n      <th>1980</th>\n      <td>6824.350098</td>\n    </tr>\n    <tr>\n      <th>1980</th>\n      <td>6788.299805</td>\n    </tr>\n    <tr>\n      <th>...</th>\n      <td>...</td>\n    </tr>\n    <tr>\n      <th>2020</th>\n      <td>22062.390625</td>\n    </tr>\n    <tr>\n      <th>2020</th>\n      <td>22121.730469</td>\n    </tr>\n    <tr>\n      <th>2020</th>\n      <td>23138.070313</td>\n    </tr>\n    <tr>\n      <th>2020</th>\n      <td>26787.539063</td>\n    </tr>\n    <tr>\n      <th>2021</th>\n      <td>28091.050781</td>\n    </tr>\n  </tbody>\n</table>\n<p>319 rows × 1 columns</p>\n</div>"
     },
     "metadata": {},
     "execution_count": 5
    }
   ],
   "source": [
    "Nikkei_Closing_Transposed"
   ]
  },
  {
   "cell_type": "code",
   "execution_count": 6,
   "metadata": {},
   "outputs": [
    {
     "output_type": "execute_result",
     "data": {
      "text/plain": [
       "Empty DataFrame\n",
       "Columns: []\n",
       "Index: [Bonds_10year]"
      ],
      "text/html": "<div>\n<style scoped>\n    .dataframe tbody tr th:only-of-type {\n        vertical-align: middle;\n    }\n\n    .dataframe tbody tr th {\n        vertical-align: top;\n    }\n\n    .dataframe thead th {\n        text-align: right;\n    }\n</style>\n<table border=\"1\" class=\"dataframe\">\n  <thead>\n    <tr style=\"text-align: right;\">\n      <th>year</th>\n    </tr>\n  </thead>\n  <tbody>\n    <tr>\n      <th>Bonds_10year</th>\n    </tr>\n  </tbody>\n</table>\n</div>"
     },
     "metadata": {},
     "execution_count": 6
    }
   ],
   "source": [
    "Bonds_Closing_ = Bonds_Closing_Transposed.transpose()\n",
    "Bonds_Closing_"
   ]
  },
  {
   "cell_type": "code",
   "execution_count": 7,
   "metadata": {},
   "outputs": [
    {
     "output_type": "execute_result",
     "data": {
      "text/plain": [
       "year      1980   1981   1984   1985    1986    1987   1990   1991    1992  \\\n",
       "XAU_USD  586.0  401.0  308.3  329.7  390.19  485.85  393.0  354.3  333.15   \n",
       "\n",
       "year       1993  ...   2008    2009     2010     2012     2013     2014  \\\n",
       "XAU_USD  390.75  ...  880.2  1096.2  1421.45  1674.95  1205.55  1183.95   \n",
       "\n",
       "year       2015     2018    2019     2020  \n",
       "XAU_USD  1061.3  1282.82  1517.4  1896.49  \n",
       "\n",
       "[1 rows x 29 columns]"
      ],
      "text/html": "<div>\n<style scoped>\n    .dataframe tbody tr th:only-of-type {\n        vertical-align: middle;\n    }\n\n    .dataframe tbody tr th {\n        vertical-align: top;\n    }\n\n    .dataframe thead th {\n        text-align: right;\n    }\n</style>\n<table border=\"1\" class=\"dataframe\">\n  <thead>\n    <tr style=\"text-align: right;\">\n      <th>year</th>\n      <th>1980</th>\n      <th>1981</th>\n      <th>1984</th>\n      <th>1985</th>\n      <th>1986</th>\n      <th>1987</th>\n      <th>1990</th>\n      <th>1991</th>\n      <th>1992</th>\n      <th>1993</th>\n      <th>...</th>\n      <th>2008</th>\n      <th>2009</th>\n      <th>2010</th>\n      <th>2012</th>\n      <th>2013</th>\n      <th>2014</th>\n      <th>2015</th>\n      <th>2018</th>\n      <th>2019</th>\n      <th>2020</th>\n    </tr>\n  </thead>\n  <tbody>\n    <tr>\n      <th>XAU_USD</th>\n      <td>586.0</td>\n      <td>401.0</td>\n      <td>308.3</td>\n      <td>329.7</td>\n      <td>390.19</td>\n      <td>485.85</td>\n      <td>393.0</td>\n      <td>354.3</td>\n      <td>333.15</td>\n      <td>390.75</td>\n      <td>...</td>\n      <td>880.2</td>\n      <td>1096.2</td>\n      <td>1421.45</td>\n      <td>1674.95</td>\n      <td>1205.55</td>\n      <td>1183.95</td>\n      <td>1061.3</td>\n      <td>1282.82</td>\n      <td>1517.4</td>\n      <td>1896.49</td>\n    </tr>\n  </tbody>\n</table>\n<p>1 rows × 29 columns</p>\n</div>"
     },
     "metadata": {},
     "execution_count": 7
    }
   ],
   "source": [
    "Gold_Closing_ = Gold_Closing_Transposed.transpose()\n",
    "Gold_Closing_"
   ]
  },
  {
   "cell_type": "code",
   "execution_count": null,
   "metadata": {},
   "outputs": [],
   "source": []
  },
  {
   "cell_type": "code",
   "execution_count": null,
   "metadata": {},
   "outputs": [],
   "source": []
  },
  {
   "cell_type": "code",
   "execution_count": 9,
   "metadata": {},
   "outputs": [
    {
     "output_type": "execute_result",
     "data": {
      "text/plain": [
       "               1980   1981   1984   1985    1986    1987   1990   1991  \\\n",
       "Name                                                                     \n",
       "Bonds_10year    NaN    NaN    NaN    NaN     NaN     NaN    NaN    NaN   \n",
       "XAU_USD       586.0  401.0  308.3  329.7  390.19  485.85  393.0  354.3   \n",
       "1979            NaN    NaN    NaN    NaN     NaN     NaN    NaN    NaN   \n",
       "1980            NaN    NaN    NaN    NaN     NaN     NaN    NaN    NaN   \n",
       "1981            NaN    NaN    NaN    NaN     NaN     NaN    NaN    NaN   \n",
       "...             ...    ...    ...    ...     ...     ...    ...    ...   \n",
       "2020            NaN    NaN    NaN    NaN     NaN     NaN    NaN    NaN   \n",
       "2020            NaN    NaN    NaN    NaN     NaN     NaN    NaN    NaN   \n",
       "2020            NaN    NaN    NaN    NaN     NaN     NaN    NaN    NaN   \n",
       "2020            NaN    NaN    NaN    NaN     NaN     NaN    NaN    NaN   \n",
       "2021            NaN    NaN    NaN    NaN     NaN     NaN    NaN    NaN   \n",
       "\n",
       "                1992    1993  ...     2010     2012     2013     2014    2015  \\\n",
       "Name                          ...                                               \n",
       "Bonds_10year     NaN     NaN  ...      NaN      NaN      NaN      NaN     NaN   \n",
       "XAU_USD       333.15  390.75  ...  1421.45  1674.95  1205.55  1183.95  1061.3   \n",
       "1979             NaN     NaN  ...      NaN      NaN      NaN      NaN     NaN   \n",
       "1980             NaN     NaN  ...      NaN      NaN      NaN      NaN     NaN   \n",
       "1981             NaN     NaN  ...      NaN      NaN      NaN      NaN     NaN   \n",
       "...              ...     ...  ...      ...      ...      ...      ...     ...   \n",
       "2020             NaN     NaN  ...      NaN      NaN      NaN      NaN     NaN   \n",
       "2020             NaN     NaN  ...      NaN      NaN      NaN      NaN     NaN   \n",
       "2020             NaN     NaN  ...      NaN      NaN      NaN      NaN     NaN   \n",
       "2020             NaN     NaN  ...      NaN      NaN      NaN      NaN     NaN   \n",
       "2021             NaN     NaN  ...      NaN      NaN      NaN      NaN     NaN   \n",
       "\n",
       "                 2018    2019     2020  NASDAQ_100    NIKKEI_225  \n",
       "Name                                                              \n",
       "Bonds_10year      NaN     NaN      NaN         NaN           NaN  \n",
       "XAU_USD       1282.82  1517.4  1896.49         NaN           NaN  \n",
       "1979              NaN     NaN      NaN  151.139999           NaN  \n",
       "1980              NaN     NaN      NaN  202.339996           NaN  \n",
       "1981              NaN     NaN      NaN  195.839996           NaN  \n",
       "...               ...     ...      ...         ...           ...  \n",
       "2020              NaN     NaN      NaN         NaN  22062.390625  \n",
       "2020              NaN     NaN      NaN         NaN  22121.730469  \n",
       "2020              NaN     NaN      NaN         NaN  23138.070313  \n",
       "2020              NaN     NaN      NaN         NaN  26787.539063  \n",
       "2021              NaN     NaN      NaN         NaN  28091.050781  \n",
       "\n",
       "[352 rows x 31 columns]"
      ],
      "text/html": "<div>\n<style scoped>\n    .dataframe tbody tr th:only-of-type {\n        vertical-align: middle;\n    }\n\n    .dataframe tbody tr th {\n        vertical-align: top;\n    }\n\n    .dataframe thead th {\n        text-align: right;\n    }\n</style>\n<table border=\"1\" class=\"dataframe\">\n  <thead>\n    <tr style=\"text-align: right;\">\n      <th></th>\n      <th>1980</th>\n      <th>1981</th>\n      <th>1984</th>\n      <th>1985</th>\n      <th>1986</th>\n      <th>1987</th>\n      <th>1990</th>\n      <th>1991</th>\n      <th>1992</th>\n      <th>1993</th>\n      <th>...</th>\n      <th>2010</th>\n      <th>2012</th>\n      <th>2013</th>\n      <th>2014</th>\n      <th>2015</th>\n      <th>2018</th>\n      <th>2019</th>\n      <th>2020</th>\n      <th>NASDAQ_100</th>\n      <th>NIKKEI_225</th>\n    </tr>\n    <tr>\n      <th>Name</th>\n      <th></th>\n      <th></th>\n      <th></th>\n      <th></th>\n      <th></th>\n      <th></th>\n      <th></th>\n      <th></th>\n      <th></th>\n      <th></th>\n      <th></th>\n      <th></th>\n      <th></th>\n      <th></th>\n      <th></th>\n      <th></th>\n      <th></th>\n      <th></th>\n      <th></th>\n      <th></th>\n      <th></th>\n    </tr>\n  </thead>\n  <tbody>\n    <tr>\n      <th>Bonds_10year</th>\n      <td>NaN</td>\n      <td>NaN</td>\n      <td>NaN</td>\n      <td>NaN</td>\n      <td>NaN</td>\n      <td>NaN</td>\n      <td>NaN</td>\n      <td>NaN</td>\n      <td>NaN</td>\n      <td>NaN</td>\n      <td>...</td>\n      <td>NaN</td>\n      <td>NaN</td>\n      <td>NaN</td>\n      <td>NaN</td>\n      <td>NaN</td>\n      <td>NaN</td>\n      <td>NaN</td>\n      <td>NaN</td>\n      <td>NaN</td>\n      <td>NaN</td>\n    </tr>\n    <tr>\n      <th>XAU_USD</th>\n      <td>586.0</td>\n      <td>401.0</td>\n      <td>308.3</td>\n      <td>329.7</td>\n      <td>390.19</td>\n      <td>485.85</td>\n      <td>393.0</td>\n      <td>354.3</td>\n      <td>333.15</td>\n      <td>390.75</td>\n      <td>...</td>\n      <td>1421.45</td>\n      <td>1674.95</td>\n      <td>1205.55</td>\n      <td>1183.95</td>\n      <td>1061.3</td>\n      <td>1282.82</td>\n      <td>1517.4</td>\n      <td>1896.49</td>\n      <td>NaN</td>\n      <td>NaN</td>\n    </tr>\n    <tr>\n      <th>1979</th>\n      <td>NaN</td>\n      <td>NaN</td>\n      <td>NaN</td>\n      <td>NaN</td>\n      <td>NaN</td>\n      <td>NaN</td>\n      <td>NaN</td>\n      <td>NaN</td>\n      <td>NaN</td>\n      <td>NaN</td>\n      <td>...</td>\n      <td>NaN</td>\n      <td>NaN</td>\n      <td>NaN</td>\n      <td>NaN</td>\n      <td>NaN</td>\n      <td>NaN</td>\n      <td>NaN</td>\n      <td>NaN</td>\n      <td>151.139999</td>\n      <td>NaN</td>\n    </tr>\n    <tr>\n      <th>1980</th>\n      <td>NaN</td>\n      <td>NaN</td>\n      <td>NaN</td>\n      <td>NaN</td>\n      <td>NaN</td>\n      <td>NaN</td>\n      <td>NaN</td>\n      <td>NaN</td>\n      <td>NaN</td>\n      <td>NaN</td>\n      <td>...</td>\n      <td>NaN</td>\n      <td>NaN</td>\n      <td>NaN</td>\n      <td>NaN</td>\n      <td>NaN</td>\n      <td>NaN</td>\n      <td>NaN</td>\n      <td>NaN</td>\n      <td>202.339996</td>\n      <td>NaN</td>\n    </tr>\n    <tr>\n      <th>1981</th>\n      <td>NaN</td>\n      <td>NaN</td>\n      <td>NaN</td>\n      <td>NaN</td>\n      <td>NaN</td>\n      <td>NaN</td>\n      <td>NaN</td>\n      <td>NaN</td>\n      <td>NaN</td>\n      <td>NaN</td>\n      <td>...</td>\n      <td>NaN</td>\n      <td>NaN</td>\n      <td>NaN</td>\n      <td>NaN</td>\n      <td>NaN</td>\n      <td>NaN</td>\n      <td>NaN</td>\n      <td>NaN</td>\n      <td>195.839996</td>\n      <td>NaN</td>\n    </tr>\n    <tr>\n      <th>...</th>\n      <td>...</td>\n      <td>...</td>\n      <td>...</td>\n      <td>...</td>\n      <td>...</td>\n      <td>...</td>\n      <td>...</td>\n      <td>...</td>\n      <td>...</td>\n      <td>...</td>\n      <td>...</td>\n      <td>...</td>\n      <td>...</td>\n      <td>...</td>\n      <td>...</td>\n      <td>...</td>\n      <td>...</td>\n      <td>...</td>\n      <td>...</td>\n      <td>...</td>\n      <td>...</td>\n    </tr>\n    <tr>\n      <th>2020</th>\n      <td>NaN</td>\n      <td>NaN</td>\n      <td>NaN</td>\n      <td>NaN</td>\n      <td>NaN</td>\n      <td>NaN</td>\n      <td>NaN</td>\n      <td>NaN</td>\n      <td>NaN</td>\n      <td>NaN</td>\n      <td>...</td>\n      <td>NaN</td>\n      <td>NaN</td>\n      <td>NaN</td>\n      <td>NaN</td>\n      <td>NaN</td>\n      <td>NaN</td>\n      <td>NaN</td>\n      <td>NaN</td>\n      <td>NaN</td>\n      <td>22062.390625</td>\n    </tr>\n    <tr>\n      <th>2020</th>\n      <td>NaN</td>\n      <td>NaN</td>\n      <td>NaN</td>\n      <td>NaN</td>\n      <td>NaN</td>\n      <td>NaN</td>\n      <td>NaN</td>\n      <td>NaN</td>\n      <td>NaN</td>\n      <td>NaN</td>\n      <td>...</td>\n      <td>NaN</td>\n      <td>NaN</td>\n      <td>NaN</td>\n      <td>NaN</td>\n      <td>NaN</td>\n      <td>NaN</td>\n      <td>NaN</td>\n      <td>NaN</td>\n      <td>NaN</td>\n      <td>22121.730469</td>\n    </tr>\n    <tr>\n      <th>2020</th>\n      <td>NaN</td>\n      <td>NaN</td>\n      <td>NaN</td>\n      <td>NaN</td>\n      <td>NaN</td>\n      <td>NaN</td>\n      <td>NaN</td>\n      <td>NaN</td>\n      <td>NaN</td>\n      <td>NaN</td>\n      <td>...</td>\n      <td>NaN</td>\n      <td>NaN</td>\n      <td>NaN</td>\n      <td>NaN</td>\n      <td>NaN</td>\n      <td>NaN</td>\n      <td>NaN</td>\n      <td>NaN</td>\n      <td>NaN</td>\n      <td>23138.070313</td>\n    </tr>\n    <tr>\n      <th>2020</th>\n      <td>NaN</td>\n      <td>NaN</td>\n      <td>NaN</td>\n      <td>NaN</td>\n      <td>NaN</td>\n      <td>NaN</td>\n      <td>NaN</td>\n      <td>NaN</td>\n      <td>NaN</td>\n      <td>NaN</td>\n      <td>...</td>\n      <td>NaN</td>\n      <td>NaN</td>\n      <td>NaN</td>\n      <td>NaN</td>\n      <td>NaN</td>\n      <td>NaN</td>\n      <td>NaN</td>\n      <td>NaN</td>\n      <td>NaN</td>\n      <td>26787.539063</td>\n    </tr>\n    <tr>\n      <th>2021</th>\n      <td>NaN</td>\n      <td>NaN</td>\n      <td>NaN</td>\n      <td>NaN</td>\n      <td>NaN</td>\n      <td>NaN</td>\n      <td>NaN</td>\n      <td>NaN</td>\n      <td>NaN</td>\n      <td>NaN</td>\n      <td>...</td>\n      <td>NaN</td>\n      <td>NaN</td>\n      <td>NaN</td>\n      <td>NaN</td>\n      <td>NaN</td>\n      <td>NaN</td>\n      <td>NaN</td>\n      <td>NaN</td>\n      <td>NaN</td>\n      <td>28091.050781</td>\n    </tr>\n  </tbody>\n</table>\n<p>352 rows × 31 columns</p>\n</div>"
     },
     "metadata": {},
     "execution_count": 9
    }
   ],
   "source": [
    "Merged_Closing_ = pd.concat([Bonds_Closing_, Gold_Closing_,Nasdaq_Closing_Transposed,Nikkei_Closing_Transposed])\n",
    "# Merged_Closing_.to_csv('Merge Tran (closing prices).csv')\n",
    "Merged_Closing_.index.names = [\"Name\"]\n",
    "Merged_Closing_.to_csv('Merge Tran (closing prices).csv')\n",
    "Merged_Closing_"
   ]
  },
  {
   "cell_type": "code",
   "execution_count": null,
   "metadata": {},
   "outputs": [],
   "source": []
  },
  {
   "cell_type": "code",
   "execution_count": null,
   "metadata": {},
   "outputs": [],
   "source": [
    "# # Add new value column based on price from Bonds_10year column\n",
    "# Bonds_Closing_Transposed['value'] = Bonds_Closing_Transposed['Bonds_10year']\n",
    "# Gold_Closing_Transposed['value'] = Gold_Closing_Transposed['XAU_USD']\n",
    "# Nasdaq_Closing_Transposed['value'] = Nasdaq_Closing_Transposed['NASDAQ_100']\n",
    "# Nikkei_Closing_Transposed['value'] = Nikkei_Closing_Transposed['NIKKEI_225']\n",
    "\n",
    "# # Create new column with Name of index as the row values\n",
    "# Bonds_Closing_Transposed['name'] = 'Bonds_10year'\n",
    "# Gold_Closing_Transposed['name'] = 'XAU_USD'\n",
    "# Nasdaq_Closing_Transposed['name'] = 'NASDAQ_100'\n",
    "# Nikkei_Closing_Transposed['name'] = 'NIKKEI_225'\n",
    "\n",
    "# # Remove unnecessary columns\n",
    "# Bonds_Closing_Transposed = Bonds_Closing_Transposed.drop(['Bonds_10year'], axis = 1)\n",
    "# Gold_Closing_Transposed = Gold_Closing_Transposed.drop(['XAU_USD'], axis = 1)\n",
    "# Nasdaq_Closing_Transposed = Nasdaq_Closing_Transposed.drop(['NASDAQ_100'], axis = 1)\n",
    "# Nikkei_Closing_Transposed = Nikkei_Closing_Transposed.drop(['NIKKEI_225'], axis = 1)\n",
    "\n"
   ]
  },
  {
   "cell_type": "code",
   "execution_count": null,
   "metadata": {},
   "outputs": [],
   "source": [
    "# Bonds_Closing_ = Bonds_Closing_Transposed.transpose()\n",
    "# Bonds_Closing_"
   ]
  },
  {
   "cell_type": "code",
   "execution_count": null,
   "metadata": {},
   "outputs": [],
   "source": [
    "# Gold_Closing_Transposed"
   ]
  },
  {
   "cell_type": "code",
   "execution_count": null,
   "metadata": {},
   "outputs": [],
   "source": [
    "# Nasdaq_Closing_Transposed"
   ]
  },
  {
   "cell_type": "code",
   "execution_count": null,
   "metadata": {},
   "outputs": [],
   "source": [
    "# Nikkei_Closing_Transposed"
   ]
  },
  {
   "cell_type": "code",
   "execution_count": null,
   "metadata": {},
   "outputs": [],
   "source": [
    "# #Merge all dataframes into one\n",
    "# Merged_Closing_Transposed = pd.concat([Bonds_Closing_Transposed, Gold_Closing_Transposed, Nasdaq_Closing_Transposed, Nikkei_Closing_Transposed])\n",
    "\n",
    "\n",
    "# # Save to a csv file\n",
    "# Merged_Closing_Transposed.to_csv('Merge Transposed (closing prices).csv')\n",
    "# Merged_Closing_Transposed"
   ]
  },
  {
   "cell_type": "code",
   "execution_count": null,
   "metadata": {},
   "outputs": [],
   "source": [
    "# Merged_Closing_Transposed.groupby(Merged_Closing_Transposed['Date'])"
   ]
  },
  {
   "cell_type": "code",
   "execution_count": null,
   "metadata": {},
   "outputs": [],
   "source": [
    "# Merged_Closing_Transposed"
   ]
  },
  {
   "cell_type": "code",
   "execution_count": null,
   "metadata": {},
   "outputs": [],
   "source": []
  }
 ]
}