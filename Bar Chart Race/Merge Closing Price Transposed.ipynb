{
 "metadata": {
  "language_info": {
   "codemirror_mode": {
    "name": "ipython",
    "version": 3
   },
   "file_extension": ".py",
   "mimetype": "text/x-python",
   "name": "python",
   "nbconvert_exporter": "python",
   "pygments_lexer": "ipython3",
   "version": "3.8.3-final"
  },
  "orig_nbformat": 2,
  "kernelspec": {
   "name": "python3",
   "display_name": "Python 3.8.3 64-bit (conda)",
   "metadata": {
    "interpreter": {
     "hash": "ccb7b26840b825c8924d4cfe054c3e169b8f58795accc090394d62bc14660e70"
    }
   }
  }
 },
 "nbformat": 4,
 "nbformat_minor": 2,
 "cells": [
  {
   "cell_type": "code",
   "execution_count": 1,
   "metadata": {},
   "outputs": [],
   "source": [
    "# Declare dependencies\n",
    "import pandas as pd"
   ]
  },
  {
   "cell_type": "code",
   "execution_count": 2,
   "metadata": {},
   "outputs": [],
   "source": [
    "# Create dataframe from csv file\n",
    "\n",
    "Bonds_Closing_Transposed = pd.read_csv('Bonds (closing price).csv') #,index_col=0\n",
    "Gold_Closing_Transposed = pd.read_csv('Gold (closing price).csv')\n",
    "Nasdaq_Closing_Transposed = pd.read_csv('Nasdaq (closing price).csv')\n",
    "Nikkei_Closing_Transposed = pd.read_csv('Nikkei (closing price).csv')\n"
   ]
  },
  {
   "cell_type": "code",
   "execution_count": 7,
   "metadata": {},
   "outputs": [
    {
     "output_type": "execute_result",
     "data": {
      "text/plain": [
       "Empty DataFrame\n",
       "Columns: [Date, NIKKEI_225]\n",
       "Index: []"
      ],
      "text/html": "<div>\n<style scoped>\n    .dataframe tbody tr th:only-of-type {\n        vertical-align: middle;\n    }\n\n    .dataframe tbody tr th {\n        vertical-align: top;\n    }\n\n    .dataframe thead th {\n        text-align: right;\n    }\n</style>\n<table border=\"1\" class=\"dataframe\">\n  <thead>\n    <tr style=\"text-align: right;\">\n      <th></th>\n      <th>Date</th>\n      <th>NIKKEI_225</th>\n    </tr>\n  </thead>\n  <tbody>\n  </tbody>\n</table>\n</div>"
     },
     "metadata": {},
     "execution_count": 7
    }
   ],
   "source": [
    "Bonds_Closing_Transposed['Date'] = pd.to_datetime(Bonds_Closing_Transposed['Date'])\n",
    "Bonds_Closing_Transposed = Bonds_Closing_Transposed[Bonds_Closing_Transposed['Date'].dt.is_month_start==2]\n",
    "# Bonds_Closing_Transposed.dtypes\n",
    "\n",
    "Gold_Closing_Transposed['Date'] = pd.to_datetime(Gold_Closing_Transposed['Date'])\n",
    "Gold_Closing_Transposed = Gold_Closing_Transposed[Gold_Closing_Transposed['Date'].dt.is_year_end]\n",
    "# Gold_Closing_Transposed.dtypes\n",
    "Gold_Closing_Transposed\n",
    "\n",
    "Nasdaq_Closing_Transposed['Date'] = pd.to_datetime(Nasdaq_Closing_Transposed['Date'])\n",
    "Nasdaq_Closing_Transposed = Nasdaq_Closing_Transposed[Nasdaq_Closing_Transposed['Date'].dt.is_year_end]\n",
    "\n",
    "Nikkei_Closing_Transposed['Date'] = pd.to_datetime(Nikkei_Closing_Transposed['Date'])\n",
    "Nikkei_Closing_Transposed = Nikkei_Closing_Transposed[Nikkei_Closing_Transposed['Date'].dt.is_month_start]\n",
    "Nikkei_Closing_Transposed"
   ]
  },
  {
   "cell_type": "code",
   "execution_count": null,
   "metadata": {},
   "outputs": [],
   "source": [
    "Bonds_Closing_Transposed ['year'] = Bonds_Closing_Transposed['Date'].dt.year\n",
    "Bonds_Closing_Transposed.drop(['Date'], axis=1, inplace=True)\n",
    "Bonds_Closing_Transposed = Bonds_Closing_Transposed.set_index('year')\n",
    "Bonds_Closing_Transposed\n",
    "\n",
    "Gold_Closing_Transposed ['year'] = Gold_Closing_Transposed['Date'].dt.year\n",
    "Gold_Closing_Transposed.drop(['Date'], axis=1, inplace=True)\n",
    "Gold_Closing_Transposed = Gold_Closing_Transposed.set_index('year')\n",
    "Gold_Closing_Transposed\n",
    "\n",
    "Nasdaq_Closing_Transposed ['year'] = Nasdaq_Closing_Transposed['Date'].dt.year\n",
    "Nasdaq_Closing_Transposed.drop(['Date'], axis=1, inplace=True)\n",
    "Nasdaq_Closing_Transposed = Nasdaq_Closing_Transposed.set_index('year')\n",
    "Nasdaq_Closing_Transposed\n",
    "\n",
    "Nikkei_Closing_Transposed ['year'] = Nikkei_Closing_Transposed['Date'].dt.year\n",
    "Nikkei_Closing_Transposed.drop(['Date'], axis=1, inplace=True)\n",
    "Nikkei_Closing_Transposed = Nikkei_Closing_Transposed.set_index('year')\n",
    "Nikkei_Closing_Transposed"
   ]
  },
  {
   "cell_type": "code",
   "execution_count": null,
   "metadata": {},
   "outputs": [],
   "source": [
    "Nikkei_Closing_Transposed"
   ]
  },
  {
   "cell_type": "code",
   "execution_count": null,
   "metadata": {},
   "outputs": [],
   "source": [
    "Bonds_Closing_ = Bonds_Closing_Transposed.transpose()\n",
    "Bonds_Closing_"
   ]
  },
  {
   "cell_type": "code",
   "execution_count": null,
   "metadata": {},
   "outputs": [],
   "source": [
    "Gold_Closing_ = Gold_Closing_Transposed.transpose()\n",
    "Gold_Closing_"
   ]
  },
  {
   "cell_type": "code",
   "execution_count": null,
   "metadata": {},
   "outputs": [],
   "source": []
  },
  {
   "cell_type": "code",
   "execution_count": null,
   "metadata": {},
   "outputs": [],
   "source": []
  },
  {
   "cell_type": "code",
   "execution_count": null,
   "metadata": {},
   "outputs": [],
   "source": [
    "Merged_Closing_ = pd.concat([Bonds_Closing_, Gold_Closing_])\n",
    "# Merged_Closing_.to_csv('Merge Tran (closing prices).csv')\n",
    "Merged_Closing_.index.names = [\"Name\"]\n",
    "Merged_Closing_.to_csv('Merge Tran (closing prices).csv')\n",
    "Merged_Closing_"
   ]
  },
  {
   "cell_type": "code",
   "execution_count": null,
   "metadata": {},
   "outputs": [],
   "source": []
  },
  {
   "cell_type": "code",
   "execution_count": null,
   "metadata": {},
   "outputs": [],
   "source": [
    "# # Add new value column based on price from Bonds_10year column\n",
    "# Bonds_Closing_Transposed['value'] = Bonds_Closing_Transposed['Bonds_10year']\n",
    "# Gold_Closing_Transposed['value'] = Gold_Closing_Transposed['XAU_USD']\n",
    "# Nasdaq_Closing_Transposed['value'] = Nasdaq_Closing_Transposed['NASDAQ_100']\n",
    "# Nikkei_Closing_Transposed['value'] = Nikkei_Closing_Transposed['NIKKEI_225']\n",
    "\n",
    "# # Create new column with Name of index as the row values\n",
    "# Bonds_Closing_Transposed['name'] = 'Bonds_10year'\n",
    "# Gold_Closing_Transposed['name'] = 'XAU_USD'\n",
    "# Nasdaq_Closing_Transposed['name'] = 'NASDAQ_100'\n",
    "# Nikkei_Closing_Transposed['name'] = 'NIKKEI_225'\n",
    "\n",
    "# # Remove unnecessary columns\n",
    "# Bonds_Closing_Transposed = Bonds_Closing_Transposed.drop(['Bonds_10year'], axis = 1)\n",
    "# Gold_Closing_Transposed = Gold_Closing_Transposed.drop(['XAU_USD'], axis = 1)\n",
    "# Nasdaq_Closing_Transposed = Nasdaq_Closing_Transposed.drop(['NASDAQ_100'], axis = 1)\n",
    "# Nikkei_Closing_Transposed = Nikkei_Closing_Transposed.drop(['NIKKEI_225'], axis = 1)\n",
    "\n"
   ]
  },
  {
   "cell_type": "code",
   "execution_count": null,
   "metadata": {},
   "outputs": [],
   "source": [
    "# Bonds_Closing_ = Bonds_Closing_Transposed.transpose()\n",
    "# Bonds_Closing_"
   ]
  },
  {
   "cell_type": "code",
   "execution_count": null,
   "metadata": {},
   "outputs": [],
   "source": [
    "# Gold_Closing_Transposed"
   ]
  },
  {
   "cell_type": "code",
   "execution_count": null,
   "metadata": {},
   "outputs": [],
   "source": [
    "# Nasdaq_Closing_Transposed"
   ]
  },
  {
   "cell_type": "code",
   "execution_count": null,
   "metadata": {},
   "outputs": [],
   "source": [
    "# Nikkei_Closing_Transposed"
   ]
  },
  {
   "cell_type": "code",
   "execution_count": null,
   "metadata": {},
   "outputs": [],
   "source": [
    "# #Merge all dataframes into one\n",
    "# Merged_Closing_Transposed = pd.concat([Bonds_Closing_Transposed, Gold_Closing_Transposed, Nasdaq_Closing_Transposed, Nikkei_Closing_Transposed])\n",
    "\n",
    "\n",
    "# # Save to a csv file\n",
    "# Merged_Closing_Transposed.to_csv('Merge Transposed (closing prices).csv')\n",
    "# Merged_Closing_Transposed"
   ]
  },
  {
   "cell_type": "code",
   "execution_count": null,
   "metadata": {},
   "outputs": [],
   "source": [
    "# Merged_Closing_Transposed.groupby(Merged_Closing_Transposed['Date'])"
   ]
  },
  {
   "cell_type": "code",
   "execution_count": null,
   "metadata": {},
   "outputs": [],
   "source": [
    "# Merged_Closing_Transposed"
   ]
  },
  {
   "cell_type": "code",
   "execution_count": null,
   "metadata": {},
   "outputs": [],
   "source": []
  }
 ]
}