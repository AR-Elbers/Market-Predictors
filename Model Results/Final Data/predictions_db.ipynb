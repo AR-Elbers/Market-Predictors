{
 "metadata": {
  "language_info": {
   "codemirror_mode": {
    "name": "ipython",
    "version": 3
   },
   "file_extension": ".py",
   "mimetype": "text/x-python",
   "name": "python",
   "nbconvert_exporter": "python",
   "pygments_lexer": "ipython3",
   "version": "3.7.9-final"
  },
  "orig_nbformat": 2,
  "kernelspec": {
   "name": "python3",
   "display_name": "Python 3.7.9 64-bit ('class_31': conda)",
   "metadata": {
    "interpreter": {
     "hash": "0c3f5e7de5f9586eb5159fd70f9aa7771bff1a4ed3c9bd59d922e2f541b32d04"
    }
   }
  }
 },
 "nbformat": 4,
 "nbformat_minor": 2,
 "cells": [
  {
   "cell_type": "code",
   "execution_count": 1,
   "metadata": {},
   "outputs": [],
   "source": [
    "# Dependencies\n",
    "# ----------------------------------\n",
    "# Imports the method used for connecting to DBs\n",
    "from sqlalchemy import create_engine\n",
    "\n",
    "# Imports the methods needed to abstract classes into tables\n",
    "from sqlalchemy.ext.declarative import declarative_base\n",
    "\n",
    "# Allow us to declare column types\n",
    "from sqlalchemy import Column, Integer, String, Float \n",
    "\n",
    "from sqlalchemy.orm import Session\n",
    "\n",
    "\n",
    "import pandas as pd"
   ]
  },
  {
   "cell_type": "code",
   "execution_count": 2,
   "metadata": {},
   "outputs": [
    {
     "output_type": "execute_result",
     "data": {
      "text/plain": [
       "       Unnamed: 0        Date   XAU_USD  GOL_Returns_Rolling_Std      Date.1  \\\n",
       "49             49  1980-03-07 -5.361305                 4.873833  1980-03-11   \n",
       "50             50  1980-03-10 -3.940887                 4.910922  1980-03-12   \n",
       "51             51  1980-03-11 -2.521368                 4.927854  1980-03-13   \n",
       "52             52  1980-03-12  2.709338                 4.767652  1980-03-14   \n",
       "53             53  1980-03-13 -4.985487                 4.431216  1980-03-17   \n",
       "...           ...         ...       ...                      ...         ...   \n",
       "10113       10113  2019-01-08 -0.257630                 0.543166  2020-06-24   \n",
       "10114       10114  2019-01-09  0.605283                 0.540868  2020-06-25   \n",
       "10115       10115  2019-01-10 -0.521989                 0.535107  2020-06-26   \n",
       "10116       10116  2019-01-11  0.125935                 0.494200  2020-06-29   \n",
       "10117       10117  2019-01-14  0.289596                 0.494719  2020-06-30   \n",
       "\n",
       "       Bonds_10year  BON_Returns_Rolling_Std      Date.2  NASDAQ_100  \\\n",
       "49        -1.741884                 1.569822  1980-03-10   -1.669062   \n",
       "50         1.692184                 1.576323  1980-03-11    0.563477   \n",
       "51        -0.950872                 1.579285  1980-03-12    0.048428   \n",
       "52         0.160000                 1.569203  1980-03-13    0.241991   \n",
       "53         0.479233                 1.567011  1980-03-14   -0.372461   \n",
       "...             ...                      ...         ...         ...   \n",
       "10113     -3.526093                 6.808957  2020-02-06    0.667503   \n",
       "10114     -1.461988                 6.451171  2020-02-07   -0.539488   \n",
       "10115     -5.637982                 6.469783  2020-02-10    1.133131   \n",
       "10116      0.000000                 6.388195  2020-02-11    0.109580   \n",
       "10117      2.672956                 6.365580  2020-02-12    0.902791   \n",
       "\n",
       "       NAS_Returns_Rolling_Std      Date.3  NIKKEI_225  \\\n",
       "49                    0.900962  1980-03-14   -0.166408   \n",
       "50                    0.903056  1980-03-17   -0.466220   \n",
       "51                    0.902312  1980-03-18    0.236944   \n",
       "52                    0.861473  1980-03-19    0.099568   \n",
       "53                    0.837425  1980-03-20    0.000000   \n",
       "...                        ...         ...         ...   \n",
       "10113                 0.761316  2021-02-08    2.117191   \n",
       "10114                 0.752599  2021-02-09    0.399577   \n",
       "10115                 0.764095  2021-02-10    0.193182   \n",
       "10116                 0.761532  2021-02-12   -0.144977   \n",
       "10117                 0.761637  2021-02-15    1.910836   \n",
       "\n",
       "       NIK_Returns_Rolling_Std  \n",
       "49                    0.530828  \n",
       "50                    0.527977  \n",
       "51                    0.528628  \n",
       "52                    0.528492  \n",
       "53                    0.528044  \n",
       "...                        ...  \n",
       "10113                 0.959234  \n",
       "10114                 0.958767  \n",
       "10115                 0.953750  \n",
       "10116                 0.954752  \n",
       "10117                 0.973216  \n",
       "\n",
       "[10069 rows x 13 columns]"
      ],
      "text/html": "<div>\n<style scoped>\n    .dataframe tbody tr th:only-of-type {\n        vertical-align: middle;\n    }\n\n    .dataframe tbody tr th {\n        vertical-align: top;\n    }\n\n    .dataframe thead th {\n        text-align: right;\n    }\n</style>\n<table border=\"1\" class=\"dataframe\">\n  <thead>\n    <tr style=\"text-align: right;\">\n      <th></th>\n      <th>Unnamed: 0</th>\n      <th>Date</th>\n      <th>XAU_USD</th>\n      <th>GOL_Returns_Rolling_Std</th>\n      <th>Date.1</th>\n      <th>Bonds_10year</th>\n      <th>BON_Returns_Rolling_Std</th>\n      <th>Date.2</th>\n      <th>NASDAQ_100</th>\n      <th>NAS_Returns_Rolling_Std</th>\n      <th>Date.3</th>\n      <th>NIKKEI_225</th>\n      <th>NIK_Returns_Rolling_Std</th>\n    </tr>\n  </thead>\n  <tbody>\n    <tr>\n      <th>49</th>\n      <td>49</td>\n      <td>1980-03-07</td>\n      <td>-5.361305</td>\n      <td>4.873833</td>\n      <td>1980-03-11</td>\n      <td>-1.741884</td>\n      <td>1.569822</td>\n      <td>1980-03-10</td>\n      <td>-1.669062</td>\n      <td>0.900962</td>\n      <td>1980-03-14</td>\n      <td>-0.166408</td>\n      <td>0.530828</td>\n    </tr>\n    <tr>\n      <th>50</th>\n      <td>50</td>\n      <td>1980-03-10</td>\n      <td>-3.940887</td>\n      <td>4.910922</td>\n      <td>1980-03-12</td>\n      <td>1.692184</td>\n      <td>1.576323</td>\n      <td>1980-03-11</td>\n      <td>0.563477</td>\n      <td>0.903056</td>\n      <td>1980-03-17</td>\n      <td>-0.466220</td>\n      <td>0.527977</td>\n    </tr>\n    <tr>\n      <th>51</th>\n      <td>51</td>\n      <td>1980-03-11</td>\n      <td>-2.521368</td>\n      <td>4.927854</td>\n      <td>1980-03-13</td>\n      <td>-0.950872</td>\n      <td>1.579285</td>\n      <td>1980-03-12</td>\n      <td>0.048428</td>\n      <td>0.902312</td>\n      <td>1980-03-18</td>\n      <td>0.236944</td>\n      <td>0.528628</td>\n    </tr>\n    <tr>\n      <th>52</th>\n      <td>52</td>\n      <td>1980-03-12</td>\n      <td>2.709338</td>\n      <td>4.767652</td>\n      <td>1980-03-14</td>\n      <td>0.160000</td>\n      <td>1.569203</td>\n      <td>1980-03-13</td>\n      <td>0.241991</td>\n      <td>0.861473</td>\n      <td>1980-03-19</td>\n      <td>0.099568</td>\n      <td>0.528492</td>\n    </tr>\n    <tr>\n      <th>53</th>\n      <td>53</td>\n      <td>1980-03-13</td>\n      <td>-4.985487</td>\n      <td>4.431216</td>\n      <td>1980-03-17</td>\n      <td>0.479233</td>\n      <td>1.567011</td>\n      <td>1980-03-14</td>\n      <td>-0.372461</td>\n      <td>0.837425</td>\n      <td>1980-03-20</td>\n      <td>0.000000</td>\n      <td>0.528044</td>\n    </tr>\n    <tr>\n      <th>...</th>\n      <td>...</td>\n      <td>...</td>\n      <td>...</td>\n      <td>...</td>\n      <td>...</td>\n      <td>...</td>\n      <td>...</td>\n      <td>...</td>\n      <td>...</td>\n      <td>...</td>\n      <td>...</td>\n      <td>...</td>\n      <td>...</td>\n    </tr>\n    <tr>\n      <th>10113</th>\n      <td>10113</td>\n      <td>2019-01-08</td>\n      <td>-0.257630</td>\n      <td>0.543166</td>\n      <td>2020-06-24</td>\n      <td>-3.526093</td>\n      <td>6.808957</td>\n      <td>2020-02-06</td>\n      <td>0.667503</td>\n      <td>0.761316</td>\n      <td>2021-02-08</td>\n      <td>2.117191</td>\n      <td>0.959234</td>\n    </tr>\n    <tr>\n      <th>10114</th>\n      <td>10114</td>\n      <td>2019-01-09</td>\n      <td>0.605283</td>\n      <td>0.540868</td>\n      <td>2020-06-25</td>\n      <td>-1.461988</td>\n      <td>6.451171</td>\n      <td>2020-02-07</td>\n      <td>-0.539488</td>\n      <td>0.752599</td>\n      <td>2021-02-09</td>\n      <td>0.399577</td>\n      <td>0.958767</td>\n    </tr>\n    <tr>\n      <th>10115</th>\n      <td>10115</td>\n      <td>2019-01-10</td>\n      <td>-0.521989</td>\n      <td>0.535107</td>\n      <td>2020-06-26</td>\n      <td>-5.637982</td>\n      <td>6.469783</td>\n      <td>2020-02-10</td>\n      <td>1.133131</td>\n      <td>0.764095</td>\n      <td>2021-02-10</td>\n      <td>0.193182</td>\n      <td>0.953750</td>\n    </tr>\n    <tr>\n      <th>10116</th>\n      <td>10116</td>\n      <td>2019-01-11</td>\n      <td>0.125935</td>\n      <td>0.494200</td>\n      <td>2020-06-29</td>\n      <td>0.000000</td>\n      <td>6.388195</td>\n      <td>2020-02-11</td>\n      <td>0.109580</td>\n      <td>0.761532</td>\n      <td>2021-02-12</td>\n      <td>-0.144977</td>\n      <td>0.954752</td>\n    </tr>\n    <tr>\n      <th>10117</th>\n      <td>10117</td>\n      <td>2019-01-14</td>\n      <td>0.289596</td>\n      <td>0.494719</td>\n      <td>2020-06-30</td>\n      <td>2.672956</td>\n      <td>6.365580</td>\n      <td>2020-02-12</td>\n      <td>0.902791</td>\n      <td>0.761637</td>\n      <td>2021-02-15</td>\n      <td>1.910836</td>\n      <td>0.973216</td>\n    </tr>\n  </tbody>\n</table>\n<p>10069 rows × 13 columns</p>\n</div>"
     },
     "metadata": {},
     "execution_count": 2
    }
   ],
   "source": [
    "path_to_bonds_value_csv = \"Merge Std.csv\"\n",
    "merge_data  = pd.read_csv(path_to_bonds_value_csv)\n",
    "\n",
    "merge_data = merge_data.dropna()\n",
    "merge_data"
   ]
  },
  {
   "cell_type": "code",
   "execution_count": 3,
   "metadata": {},
   "outputs": [
    {
     "output_type": "execute_result",
     "data": {
      "text/plain": [
       "             Date   XAU_USD  GOL_Returns_Rolling_Std  Bonds_10year  \\\n",
       "49     1980-03-07 -5.361305                 4.873833     -1.741884   \n",
       "50     1980-03-10 -3.940887                 4.910922      1.692184   \n",
       "51     1980-03-11 -2.521368                 4.927854     -0.950872   \n",
       "52     1980-03-12  2.709338                 4.767652      0.160000   \n",
       "53     1980-03-13 -4.985487                 4.431216      0.479233   \n",
       "...           ...       ...                      ...           ...   \n",
       "10113  2019-01-08 -0.257630                 0.543166     -3.526093   \n",
       "10114  2019-01-09  0.605283                 0.540868     -1.461988   \n",
       "10115  2019-01-10 -0.521989                 0.535107     -5.637982   \n",
       "10116  2019-01-11  0.125935                 0.494200      0.000000   \n",
       "10117  2019-01-14  0.289596                 0.494719      2.672956   \n",
       "\n",
       "       BON_Returns_Rolling_Std  NASDAQ_100  NAS_Returns_Rolling_Std  \\\n",
       "49                    1.569822   -1.669062                 0.900962   \n",
       "50                    1.576323    0.563477                 0.903056   \n",
       "51                    1.579285    0.048428                 0.902312   \n",
       "52                    1.569203    0.241991                 0.861473   \n",
       "53                    1.567011   -0.372461                 0.837425   \n",
       "...                        ...         ...                      ...   \n",
       "10113                 6.808957    0.667503                 0.761316   \n",
       "10114                 6.451171   -0.539488                 0.752599   \n",
       "10115                 6.469783    1.133131                 0.764095   \n",
       "10116                 6.388195    0.109580                 0.761532   \n",
       "10117                 6.365580    0.902791                 0.761637   \n",
       "\n",
       "       NIKKEI_225  NIK_Returns_Rolling_Std  \n",
       "49      -0.166408                 0.530828  \n",
       "50      -0.466220                 0.527977  \n",
       "51       0.236944                 0.528628  \n",
       "52       0.099568                 0.528492  \n",
       "53       0.000000                 0.528044  \n",
       "...           ...                      ...  \n",
       "10113    2.117191                 0.959234  \n",
       "10114    0.399577                 0.958767  \n",
       "10115    0.193182                 0.953750  \n",
       "10116   -0.144977                 0.954752  \n",
       "10117    1.910836                 0.973216  \n",
       "\n",
       "[10069 rows x 9 columns]"
      ],
      "text/html": "<div>\n<style scoped>\n    .dataframe tbody tr th:only-of-type {\n        vertical-align: middle;\n    }\n\n    .dataframe tbody tr th {\n        vertical-align: top;\n    }\n\n    .dataframe thead th {\n        text-align: right;\n    }\n</style>\n<table border=\"1\" class=\"dataframe\">\n  <thead>\n    <tr style=\"text-align: right;\">\n      <th></th>\n      <th>Date</th>\n      <th>XAU_USD</th>\n      <th>GOL_Returns_Rolling_Std</th>\n      <th>Bonds_10year</th>\n      <th>BON_Returns_Rolling_Std</th>\n      <th>NASDAQ_100</th>\n      <th>NAS_Returns_Rolling_Std</th>\n      <th>NIKKEI_225</th>\n      <th>NIK_Returns_Rolling_Std</th>\n    </tr>\n  </thead>\n  <tbody>\n    <tr>\n      <th>49</th>\n      <td>1980-03-07</td>\n      <td>-5.361305</td>\n      <td>4.873833</td>\n      <td>-1.741884</td>\n      <td>1.569822</td>\n      <td>-1.669062</td>\n      <td>0.900962</td>\n      <td>-0.166408</td>\n      <td>0.530828</td>\n    </tr>\n    <tr>\n      <th>50</th>\n      <td>1980-03-10</td>\n      <td>-3.940887</td>\n      <td>4.910922</td>\n      <td>1.692184</td>\n      <td>1.576323</td>\n      <td>0.563477</td>\n      <td>0.903056</td>\n      <td>-0.466220</td>\n      <td>0.527977</td>\n    </tr>\n    <tr>\n      <th>51</th>\n      <td>1980-03-11</td>\n      <td>-2.521368</td>\n      <td>4.927854</td>\n      <td>-0.950872</td>\n      <td>1.579285</td>\n      <td>0.048428</td>\n      <td>0.902312</td>\n      <td>0.236944</td>\n      <td>0.528628</td>\n    </tr>\n    <tr>\n      <th>52</th>\n      <td>1980-03-12</td>\n      <td>2.709338</td>\n      <td>4.767652</td>\n      <td>0.160000</td>\n      <td>1.569203</td>\n      <td>0.241991</td>\n      <td>0.861473</td>\n      <td>0.099568</td>\n      <td>0.528492</td>\n    </tr>\n    <tr>\n      <th>53</th>\n      <td>1980-03-13</td>\n      <td>-4.985487</td>\n      <td>4.431216</td>\n      <td>0.479233</td>\n      <td>1.567011</td>\n      <td>-0.372461</td>\n      <td>0.837425</td>\n      <td>0.000000</td>\n      <td>0.528044</td>\n    </tr>\n    <tr>\n      <th>...</th>\n      <td>...</td>\n      <td>...</td>\n      <td>...</td>\n      <td>...</td>\n      <td>...</td>\n      <td>...</td>\n      <td>...</td>\n      <td>...</td>\n      <td>...</td>\n    </tr>\n    <tr>\n      <th>10113</th>\n      <td>2019-01-08</td>\n      <td>-0.257630</td>\n      <td>0.543166</td>\n      <td>-3.526093</td>\n      <td>6.808957</td>\n      <td>0.667503</td>\n      <td>0.761316</td>\n      <td>2.117191</td>\n      <td>0.959234</td>\n    </tr>\n    <tr>\n      <th>10114</th>\n      <td>2019-01-09</td>\n      <td>0.605283</td>\n      <td>0.540868</td>\n      <td>-1.461988</td>\n      <td>6.451171</td>\n      <td>-0.539488</td>\n      <td>0.752599</td>\n      <td>0.399577</td>\n      <td>0.958767</td>\n    </tr>\n    <tr>\n      <th>10115</th>\n      <td>2019-01-10</td>\n      <td>-0.521989</td>\n      <td>0.535107</td>\n      <td>-5.637982</td>\n      <td>6.469783</td>\n      <td>1.133131</td>\n      <td>0.764095</td>\n      <td>0.193182</td>\n      <td>0.953750</td>\n    </tr>\n    <tr>\n      <th>10116</th>\n      <td>2019-01-11</td>\n      <td>0.125935</td>\n      <td>0.494200</td>\n      <td>0.000000</td>\n      <td>6.388195</td>\n      <td>0.109580</td>\n      <td>0.761532</td>\n      <td>-0.144977</td>\n      <td>0.954752</td>\n    </tr>\n    <tr>\n      <th>10117</th>\n      <td>2019-01-14</td>\n      <td>0.289596</td>\n      <td>0.494719</td>\n      <td>2.672956</td>\n      <td>6.365580</td>\n      <td>0.902791</td>\n      <td>0.761637</td>\n      <td>1.910836</td>\n      <td>0.973216</td>\n    </tr>\n  </tbody>\n</table>\n<p>10069 rows × 9 columns</p>\n</div>"
     },
     "metadata": {},
     "execution_count": 3
    }
   ],
   "source": [
    "merge_data = merge_data.drop(['Unnamed: 0', 'Date.1','Date.2','Date.3'], axis = 1)\n",
    "merge_data"
   ]
  },
  {
   "cell_type": "code",
   "execution_count": 4,
   "metadata": {},
   "outputs": [],
   "source": [
    "path_to_returns_actual = \"returns actual.csv\"\n",
    "returns_actual_df = pd.read_csv(path_to_returns_actual)\n",
    "\n",
    "path_to_returns_prediction =\"returns prediction.csv\"\n",
    "returns_prediction_df =pd.read_csv(path_to_returns_prediction)\n",
    "\n",
    "path_to_volatility_actual=\"volatility actual.csv\"\n",
    "volatility_actual_df =pd.read_csv(path_to_volatility_actual)\n",
    "\n",
    "path_to_volatility_prediction =\"volatility prediction.csv\"\n",
    "volatility_prediction_df=pd.read_csv(path_to_volatility_prediction)\n",
    "\n",
    "merge_data.to_csv('historic_data.csv')"
   ]
  },
  {
   "cell_type": "code",
   "execution_count": 6,
   "metadata": {},
   "outputs": [],
   "source": [
    "returns_actual_df = returns_actual_df.drop(['Unnamed: 0'], axis = 1)\n",
    "\n",
    "returns_prediction_df = returns_prediction_df.drop(['Unnamed: 0'], axis = 1)\n",
    "\n",
    "volatility_actual_df = volatility_actual_df.drop(['Unnamed: 0'], axis = 1)\n",
    "\n",
    "volatility_prediction_df = volatility_prediction_df.drop(['Unnamed: 0'], axis = 1)"
   ]
  },
  {
   "cell_type": "code",
   "execution_count": 7,
   "metadata": {},
   "outputs": [],
   "source": [
    "# Create Database Connection\n",
    "# ----------------------------------\n",
    "# Creates a connection to our DB\n",
    "# Do not duplicate this cell. There is no need \n",
    "engine = create_engine(\"sqlite:///predictions.sqlite\")\n",
    "conn = engine.connect()"
   ]
  },
  {
   "cell_type": "code",
   "execution_count": 8,
   "metadata": {},
   "outputs": [],
   "source": [
    "# Create a \"Metadata\" Layer That Abstracts our SQL Database\n",
    "# ----------------------------------\n",
    "# Base = declarative_base()\n",
    "# Create (if not already in existence) the tables associated with our classes.\n",
    "# Base.metadata.create_all(engine)\n",
    "\n",
    "# Use this to clear out the db\n",
    "# # ----------------------------------\n",
    "# Base.metadata.drop_all(engine)"
   ]
  },
  {
   "cell_type": "code",
   "execution_count": 9,
   "metadata": {},
   "outputs": [],
   "source": [
    "returns_actual_df.to_sql(\"return_act\",engine,if_exists=\"replace\")\n",
    "\n",
    "returns_prediction_df.to_sql(\"return_pre\",engine,if_exists=\"replace\")\n",
    "\n",
    "volatility_actual_df.to_sql(\"vol_act\",engine,if_exists=\"replace\")\n",
    "\n",
    "volatility_prediction_df.to_sql(\"vol_pre\",engine,if_exists=\"replace\")\n",
    "\n",
    "merge_data.to_sql(\"historic_data\",engine,if_exists=\"replace\")"
   ]
  },
  {
   "cell_type": "code",
   "execution_count": 10,
   "metadata": {},
   "outputs": [
    {
     "output_type": "execute_result",
     "data": {
      "text/plain": [
       "       index        Date   XAU_USD  GOL_Returns_Rolling_Std  Bonds_10year  \\\n",
       "0         49  1980-03-07 -5.361305                 4.873833     -1.741884   \n",
       "1         50  1980-03-10 -3.940887                 4.910922      1.692184   \n",
       "2         51  1980-03-11 -2.521368                 4.927854     -0.950872   \n",
       "3         52  1980-03-12  2.709338                 4.767652      0.160000   \n",
       "4         53  1980-03-13 -4.985487                 4.431216      0.479233   \n",
       "...      ...         ...       ...                      ...           ...   \n",
       "10064  10113  2019-01-08 -0.257630                 0.543166     -3.526093   \n",
       "10065  10114  2019-01-09  0.605283                 0.540868     -1.461988   \n",
       "10066  10115  2019-01-10 -0.521989                 0.535107     -5.637982   \n",
       "10067  10116  2019-01-11  0.125935                 0.494200      0.000000   \n",
       "10068  10117  2019-01-14  0.289596                 0.494719      2.672956   \n",
       "\n",
       "       BON_Returns_Rolling_Std  NASDAQ_100  NAS_Returns_Rolling_Std  \\\n",
       "0                     1.569822   -1.669062                 0.900962   \n",
       "1                     1.576323    0.563477                 0.903056   \n",
       "2                     1.579285    0.048428                 0.902312   \n",
       "3                     1.569203    0.241991                 0.861473   \n",
       "4                     1.567011   -0.372461                 0.837425   \n",
       "...                        ...         ...                      ...   \n",
       "10064                 6.808957    0.667503                 0.761316   \n",
       "10065                 6.451171   -0.539488                 0.752599   \n",
       "10066                 6.469783    1.133131                 0.764095   \n",
       "10067                 6.388195    0.109580                 0.761532   \n",
       "10068                 6.365580    0.902791                 0.761637   \n",
       "\n",
       "       NIKKEI_225  NIK_Returns_Rolling_Std  \n",
       "0       -0.166408                 0.530828  \n",
       "1       -0.466220                 0.527977  \n",
       "2        0.236944                 0.528628  \n",
       "3        0.099568                 0.528492  \n",
       "4        0.000000                 0.528044  \n",
       "...           ...                      ...  \n",
       "10064    2.117191                 0.959234  \n",
       "10065    0.399577                 0.958767  \n",
       "10066    0.193182                 0.953750  \n",
       "10067   -0.144977                 0.954752  \n",
       "10068    1.910836                 0.973216  \n",
       "\n",
       "[10069 rows x 10 columns]"
      ],
      "text/html": "<div>\n<style scoped>\n    .dataframe tbody tr th:only-of-type {\n        vertical-align: middle;\n    }\n\n    .dataframe tbody tr th {\n        vertical-align: top;\n    }\n\n    .dataframe thead th {\n        text-align: right;\n    }\n</style>\n<table border=\"1\" class=\"dataframe\">\n  <thead>\n    <tr style=\"text-align: right;\">\n      <th></th>\n      <th>index</th>\n      <th>Date</th>\n      <th>XAU_USD</th>\n      <th>GOL_Returns_Rolling_Std</th>\n      <th>Bonds_10year</th>\n      <th>BON_Returns_Rolling_Std</th>\n      <th>NASDAQ_100</th>\n      <th>NAS_Returns_Rolling_Std</th>\n      <th>NIKKEI_225</th>\n      <th>NIK_Returns_Rolling_Std</th>\n    </tr>\n  </thead>\n  <tbody>\n    <tr>\n      <th>0</th>\n      <td>49</td>\n      <td>1980-03-07</td>\n      <td>-5.361305</td>\n      <td>4.873833</td>\n      <td>-1.741884</td>\n      <td>1.569822</td>\n      <td>-1.669062</td>\n      <td>0.900962</td>\n      <td>-0.166408</td>\n      <td>0.530828</td>\n    </tr>\n    <tr>\n      <th>1</th>\n      <td>50</td>\n      <td>1980-03-10</td>\n      <td>-3.940887</td>\n      <td>4.910922</td>\n      <td>1.692184</td>\n      <td>1.576323</td>\n      <td>0.563477</td>\n      <td>0.903056</td>\n      <td>-0.466220</td>\n      <td>0.527977</td>\n    </tr>\n    <tr>\n      <th>2</th>\n      <td>51</td>\n      <td>1980-03-11</td>\n      <td>-2.521368</td>\n      <td>4.927854</td>\n      <td>-0.950872</td>\n      <td>1.579285</td>\n      <td>0.048428</td>\n      <td>0.902312</td>\n      <td>0.236944</td>\n      <td>0.528628</td>\n    </tr>\n    <tr>\n      <th>3</th>\n      <td>52</td>\n      <td>1980-03-12</td>\n      <td>2.709338</td>\n      <td>4.767652</td>\n      <td>0.160000</td>\n      <td>1.569203</td>\n      <td>0.241991</td>\n      <td>0.861473</td>\n      <td>0.099568</td>\n      <td>0.528492</td>\n    </tr>\n    <tr>\n      <th>4</th>\n      <td>53</td>\n      <td>1980-03-13</td>\n      <td>-4.985487</td>\n      <td>4.431216</td>\n      <td>0.479233</td>\n      <td>1.567011</td>\n      <td>-0.372461</td>\n      <td>0.837425</td>\n      <td>0.000000</td>\n      <td>0.528044</td>\n    </tr>\n    <tr>\n      <th>...</th>\n      <td>...</td>\n      <td>...</td>\n      <td>...</td>\n      <td>...</td>\n      <td>...</td>\n      <td>...</td>\n      <td>...</td>\n      <td>...</td>\n      <td>...</td>\n      <td>...</td>\n    </tr>\n    <tr>\n      <th>10064</th>\n      <td>10113</td>\n      <td>2019-01-08</td>\n      <td>-0.257630</td>\n      <td>0.543166</td>\n      <td>-3.526093</td>\n      <td>6.808957</td>\n      <td>0.667503</td>\n      <td>0.761316</td>\n      <td>2.117191</td>\n      <td>0.959234</td>\n    </tr>\n    <tr>\n      <th>10065</th>\n      <td>10114</td>\n      <td>2019-01-09</td>\n      <td>0.605283</td>\n      <td>0.540868</td>\n      <td>-1.461988</td>\n      <td>6.451171</td>\n      <td>-0.539488</td>\n      <td>0.752599</td>\n      <td>0.399577</td>\n      <td>0.958767</td>\n    </tr>\n    <tr>\n      <th>10066</th>\n      <td>10115</td>\n      <td>2019-01-10</td>\n      <td>-0.521989</td>\n      <td>0.535107</td>\n      <td>-5.637982</td>\n      <td>6.469783</td>\n      <td>1.133131</td>\n      <td>0.764095</td>\n      <td>0.193182</td>\n      <td>0.953750</td>\n    </tr>\n    <tr>\n      <th>10067</th>\n      <td>10116</td>\n      <td>2019-01-11</td>\n      <td>0.125935</td>\n      <td>0.494200</td>\n      <td>0.000000</td>\n      <td>6.388195</td>\n      <td>0.109580</td>\n      <td>0.761532</td>\n      <td>-0.144977</td>\n      <td>0.954752</td>\n    </tr>\n    <tr>\n      <th>10068</th>\n      <td>10117</td>\n      <td>2019-01-14</td>\n      <td>0.289596</td>\n      <td>0.494719</td>\n      <td>2.672956</td>\n      <td>6.365580</td>\n      <td>0.902791</td>\n      <td>0.761637</td>\n      <td>1.910836</td>\n      <td>0.973216</td>\n    </tr>\n  </tbody>\n</table>\n<p>10069 rows × 10 columns</p>\n</div>"
     },
     "metadata": {},
     "execution_count": 10
    }
   ],
   "source": [
    "pd.read_sql(\"return_act\",conn)\n",
    "pd.read_sql(\"return_pre\",conn)\n",
    "pd.read_sql(\"vol_act\",conn)\n",
    "pd.read_sql(\"vol_pre\",conn)\n",
    "pd.read_sql(\"historic_data\",conn)"
   ]
  },
  {
   "cell_type": "code",
   "execution_count": null,
   "metadata": {},
   "outputs": [],
   "source": []
  }
 ]
}